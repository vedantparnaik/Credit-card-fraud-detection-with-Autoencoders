{
 "cells": [
  {
   "cell_type": "code",
   "execution_count": 1,
   "id": "9c4102e9",
   "metadata": {
    "execution": {
     "iopub.execute_input": "2024-02-05T03:04:19.116939Z",
     "iopub.status.busy": "2024-02-05T03:04:19.116541Z",
     "iopub.status.idle": "2024-02-05T03:04:19.121496Z",
     "shell.execute_reply": "2024-02-05T03:04:19.120766Z"
    },
    "papermill": {
     "duration": 0.016799,
     "end_time": "2024-02-05T03:04:19.123733",
     "exception": false,
     "start_time": "2024-02-05T03:04:19.106934",
     "status": "completed"
    },
    "tags": []
   },
   "outputs": [],
   "source": [
    "# # !pip uninstall jax -y\n",
    "# # !pip install jax\n",
    "# incase you get error for tf wrt jax\n",
    "# we can use this to deploy"
   ]
  },
  {
   "cell_type": "code",
   "execution_count": 2,
   "id": "db74fb61",
   "metadata": {
    "execution": {
     "iopub.execute_input": "2024-02-05T03:04:19.141084Z",
     "iopub.status.busy": "2024-02-05T03:04:19.140495Z",
     "iopub.status.idle": "2024-02-05T03:04:19.145717Z",
     "shell.execute_reply": "2024-02-05T03:04:19.144602Z"
    },
    "papermill": {
     "duration": 0.016334,
     "end_time": "2024-02-05T03:04:19.147899",
     "exception": false,
     "start_time": "2024-02-05T03:04:19.131565",
     "status": "completed"
    },
    "tags": []
   },
   "outputs": [],
   "source": [
    "# !pip install stable-baselines3[extra]\n",
    "# from stable_baselines3 import PPO\n",
    "# import gym"
   ]
  },
  {
   "cell_type": "code",
   "execution_count": 3,
   "id": "bcb9cee4",
   "metadata": {
    "execution": {
     "iopub.execute_input": "2024-02-05T03:04:19.164494Z",
     "iopub.status.busy": "2024-02-05T03:04:19.164121Z",
     "iopub.status.idle": "2024-02-05T03:04:34.864857Z",
     "shell.execute_reply": "2024-02-05T03:04:34.863457Z"
    },
    "papermill": {
     "duration": 15.712488,
     "end_time": "2024-02-05T03:04:34.867965",
     "exception": false,
     "start_time": "2024-02-05T03:04:19.155477",
     "status": "completed"
    },
    "tags": []
   },
   "outputs": [
    {
     "name": "stdout",
     "output_type": "stream",
     "text": [
      "Requirement already satisfied: fastapi in /opt/conda/lib/python3.10/site-packages (0.98.0)\r\n",
      "Requirement already satisfied: pydantic!=1.8,!=1.8.1,<2.0.0,>=1.7.4 in /opt/conda/lib/python3.10/site-packages (from fastapi) (1.10.9)\r\n",
      "Requirement already satisfied: starlette<0.28.0,>=0.27.0 in /opt/conda/lib/python3.10/site-packages (from fastapi) (0.27.0)\r\n",
      "Requirement already satisfied: typing-extensions>=4.2.0 in /opt/conda/lib/python3.10/site-packages (from pydantic!=1.8,!=1.8.1,<2.0.0,>=1.7.4->fastapi) (4.6.3)\r\n",
      "Requirement already satisfied: anyio<5,>=3.4.0 in /opt/conda/lib/python3.10/site-packages (from starlette<0.28.0,>=0.27.0->fastapi) (3.7.0)\r\n",
      "Requirement already satisfied: idna>=2.8 in /opt/conda/lib/python3.10/site-packages (from anyio<5,>=3.4.0->starlette<0.28.0,>=0.27.0->fastapi) (3.4)\r\n",
      "Requirement already satisfied: sniffio>=1.1 in /opt/conda/lib/python3.10/site-packages (from anyio<5,>=3.4.0->starlette<0.28.0,>=0.27.0->fastapi) (1.3.0)\r\n",
      "Requirement already satisfied: exceptiongroup in /opt/conda/lib/python3.10/site-packages (from anyio<5,>=3.4.0->starlette<0.28.0,>=0.27.0->fastapi) (1.1.1)\r\n"
     ]
    }
   ],
   "source": [
    "!pip install fastapi"
   ]
  },
  {
   "cell_type": "code",
   "execution_count": null,
   "id": "b1066827",
   "metadata": {
    "execution": {
     "iopub.execute_input": "2024-02-03T17:44:03.881629Z",
     "iopub.status.busy": "2024-02-03T17:44:03.881164Z",
     "iopub.status.idle": "2024-02-03T17:44:04.534967Z",
     "shell.execute_reply": "2024-02-03T17:44:04.533295Z",
     "shell.execute_reply.started": "2024-02-03T17:44:03.881592Z"
    },
    "papermill": {
     "duration": 0.007591,
     "end_time": "2024-02-05T03:04:34.883865",
     "exception": false,
     "start_time": "2024-02-05T03:04:34.876274",
     "status": "completed"
    },
    "tags": []
   },
   "outputs": [],
   "source": []
  },
  {
   "cell_type": "markdown",
   "id": "56858f4c",
   "metadata": {
    "papermill": {
     "duration": 0.007509,
     "end_time": "2024-02-05T03:04:34.899151",
     "exception": false,
     "start_time": "2024-02-05T03:04:34.891642",
     "status": "completed"
    },
    "tags": []
   },
   "source": [
    "**TODO**:\n",
    "* Lets save the model with hdf5 (h5)\n",
    "* Lets create a FAST API that will allow our model to interact with the outside world by receiving input data, processing it through the model, and returning predictions. FLASK is simple but we will be using FASTAPI as it can be easly deployed with AWS.\n",
    "* Integrate the ML model and API \n",
    "\n"
   ]
  },
  {
   "cell_type": "markdown",
   "id": "0b8d11fe",
   "metadata": {
    "papermill": {
     "duration": 0.007471,
     "end_time": "2024-02-05T03:04:34.914393",
     "exception": false,
     "start_time": "2024-02-05T03:04:34.906922",
     "status": "completed"
    },
    "tags": []
   },
   "source": [
    "**References**:\n",
    "\n",
    "* Dataset : https://www.kaggle.com/datasets/mlg-ulb/creditcardfraud\n",
    "* Reinforcement learning paper : https://arxiv.org/pdf/2112.04236.pdf \n",
    "* Ref for auto encoders : https://www.kaggle.com/code/robinteuwens/anomaly-detection-with-auto-encoders \n",
    "* FASTAPI : https://www.kaggle.com/code/abbascanguven/python-deploying-an-ml-model-with-fastapi"
   ]
  },
  {
   "cell_type": "code",
   "execution_count": 4,
   "id": "a1aae2a4",
   "metadata": {
    "execution": {
     "iopub.execute_input": "2024-02-05T03:04:34.933262Z",
     "iopub.status.busy": "2024-02-05T03:04:34.932820Z",
     "iopub.status.idle": "2024-02-05T03:04:47.088501Z",
     "shell.execute_reply": "2024-02-05T03:04:47.087083Z"
    },
    "papermill": {
     "duration": 12.168691,
     "end_time": "2024-02-05T03:04:47.091415",
     "exception": false,
     "start_time": "2024-02-05T03:04:34.922724",
     "status": "completed"
    },
    "tags": []
   },
   "outputs": [],
   "source": [
    "import numpy as np\n",
    "import pandas as pd\n",
    "import os\n",
    "from sklearn.model_selection import train_test_split\n",
    "import tensorflow as tf\n",
    "from tensorflow.keras.layers import Input, Dense\n",
    "from tensorflow.keras.models import Model\n",
    "from sklearn.metrics import mean_squared_error, accuracy_score\n",
    "from keras import regularizers\n",
    "from sklearn.preprocessing import StandardScaler\n",
    "import matplotlib.pyplot as plt\n",
    "from sklearn.metrics import confusion_matrix,recall_score"
   ]
  },
  {
   "cell_type": "code",
   "execution_count": 5,
   "id": "6107094b",
   "metadata": {
    "execution": {
     "iopub.execute_input": "2024-02-05T03:04:47.109757Z",
     "iopub.status.busy": "2024-02-05T03:04:47.108975Z",
     "iopub.status.idle": "2024-02-05T03:04:47.122923Z",
     "shell.execute_reply": "2024-02-05T03:04:47.121801Z"
    },
    "papermill": {
     "duration": 0.025954,
     "end_time": "2024-02-05T03:04:47.125414",
     "exception": false,
     "start_time": "2024-02-05T03:04:47.099460",
     "status": "completed"
    },
    "tags": []
   },
   "outputs": [
    {
     "name": "stdout",
     "output_type": "stream",
     "text": [
      "/kaggle/input/credit-card-fraud-detection-dataset-2023/creditcard_2023.csv\n"
     ]
    }
   ],
   "source": [
    "  for dirname, _, filenames in os.walk('/kaggle/input'):\n",
    "    for filename in filenames:\n",
    "        print(os.path.join(dirname, filename))"
   ]
  },
  {
   "cell_type": "code",
   "execution_count": 6,
   "id": "3c844a5b",
   "metadata": {
    "execution": {
     "iopub.execute_input": "2024-02-05T03:04:47.143542Z",
     "iopub.status.busy": "2024-02-05T03:04:47.142969Z",
     "iopub.status.idle": "2024-02-05T03:04:59.165699Z",
     "shell.execute_reply": "2024-02-05T03:04:59.164305Z"
    },
    "papermill": {
     "duration": 12.035882,
     "end_time": "2024-02-05T03:04:59.169453",
     "exception": false,
     "start_time": "2024-02-05T03:04:47.133571",
     "status": "completed"
    },
    "tags": []
   },
   "outputs": [
    {
     "name": "stdout",
     "output_type": "stream",
     "text": [
      "shape of the data:  (568630, 31)\n"
     ]
    }
   ],
   "source": [
    "data=pd.read_csv('/kaggle/input/credit-card-fraud-detection-dataset-2023/creditcard_2023.csv')\n",
    "print(\"shape of the data: \",data.shape)"
   ]
  },
  {
   "cell_type": "code",
   "execution_count": 7,
   "id": "547fabff",
   "metadata": {
    "execution": {
     "iopub.execute_input": "2024-02-05T03:04:59.188358Z",
     "iopub.status.busy": "2024-02-05T03:04:59.187951Z",
     "iopub.status.idle": "2024-02-05T03:04:59.219019Z",
     "shell.execute_reply": "2024-02-05T03:04:59.217648Z"
    },
    "papermill": {
     "duration": 0.044401,
     "end_time": "2024-02-05T03:04:59.222438",
     "exception": false,
     "start_time": "2024-02-05T03:04:59.178037",
     "status": "completed"
    },
    "tags": []
   },
   "outputs": [
    {
     "name": "stdout",
     "output_type": "stream",
     "text": [
      "   id        V1        V2        V3        V4        V5        V6        V7  \\\n",
      "0   0 -0.260648 -0.469648  2.496266 -0.083724  0.129681  0.732898  0.519014   \n",
      "1   1  0.985100 -0.356045  0.558056 -0.429654  0.277140  0.428605  0.406466   \n",
      "2   2 -0.260272 -0.949385  1.728538 -0.457986  0.074062  1.419481  0.743511   \n",
      "3   3 -0.152152 -0.508959  1.746840 -1.090178  0.249486  1.143312  0.518269   \n",
      "4   4 -0.206820 -0.165280  1.527053 -0.448293  0.106125  0.530549  0.658849   \n",
      "\n",
      "         V8        V9  ...       V21       V22       V23       V24       V25  \\\n",
      "0 -0.130006  0.727159  ... -0.110552  0.217606 -0.134794  0.165959  0.126280   \n",
      "1 -0.133118  0.347452  ... -0.194936 -0.605761  0.079469 -0.577395  0.190090   \n",
      "2 -0.095576 -0.261297  ... -0.005020  0.702906  0.945045 -1.154666 -0.605564   \n",
      "3 -0.065130 -0.205698  ... -0.146927 -0.038212 -0.214048 -1.893131  1.003963   \n",
      "4 -0.212660  1.049921  ... -0.106984  0.729727 -0.161666  0.312561 -0.414116   \n",
      "\n",
      "        V26       V27       V28    Amount  Class  \n",
      "0 -0.434824 -0.081230 -0.151045  17982.10      0  \n",
      "1  0.296503 -0.248052 -0.064512   6531.37      0  \n",
      "2 -0.312895 -0.300258 -0.244718   2513.54      0  \n",
      "3 -0.515950 -0.165316  0.048424   5384.44      0  \n",
      "4  1.071126  0.023712  0.419117  14278.97      0  \n",
      "\n",
      "[5 rows x 31 columns]\n",
      "data.shape (568630, 31)\n"
     ]
    }
   ],
   "source": [
    "headlist =[]\n",
    "print(data.head())\n",
    "headlist = data.columns.tolist()\n",
    "print('data.shape', data.shape)\n",
    "# headlist"
   ]
  },
  {
   "cell_type": "code",
   "execution_count": 8,
   "id": "b40279c9",
   "metadata": {
    "execution": {
     "iopub.execute_input": "2024-02-05T03:04:59.241698Z",
     "iopub.status.busy": "2024-02-05T03:04:59.241289Z",
     "iopub.status.idle": "2024-02-05T03:04:59.262589Z",
     "shell.execute_reply": "2024-02-05T03:04:59.261307Z"
    },
    "papermill": {
     "duration": 0.034262,
     "end_time": "2024-02-05T03:04:59.265210",
     "exception": false,
     "start_time": "2024-02-05T03:04:59.230948",
     "status": "completed"
    },
    "tags": []
   },
   "outputs": [
    {
     "name": "stdout",
     "output_type": "stream",
     "text": [
      "284315\n",
      "284315\n",
      "[ True False]\n"
     ]
    }
   ],
   "source": [
    "trues = (data['Class'] == 1).sum()\n",
    "print(trues)\n",
    "falses = (data['Class'] == 0).sum()\n",
    "print(falses)\n",
    "unique_count = (data['Class'] == 0).unique()\n",
    "print(unique_count)\n",
    "\n",
    "# Plotting\n",
    "# data.plot(kind='bar')  # You can change 'line' to 'bar', 'hist', 'box', etc.\n",
    "# plt.show()"
   ]
  },
  {
   "cell_type": "markdown",
   "id": "b06084cf",
   "metadata": {
    "papermill": {
     "duration": 0.00833,
     "end_time": "2024-02-05T03:04:59.282129",
     "exception": false,
     "start_time": "2024-02-05T03:04:59.273799",
     "status": "completed"
    },
    "tags": []
   },
   "source": [
    "> Test: shuffle the data and run the model. check the diff. might reduce bias from the pattern."
   ]
  },
  {
   "cell_type": "code",
   "execution_count": 9,
   "id": "cad5d266",
   "metadata": {
    "execution": {
     "iopub.execute_input": "2024-02-05T03:04:59.301107Z",
     "iopub.status.busy": "2024-02-05T03:04:59.300708Z",
     "iopub.status.idle": "2024-02-05T03:04:59.806891Z",
     "shell.execute_reply": "2024-02-05T03:04:59.805698Z"
    },
    "papermill": {
     "duration": 0.519146,
     "end_time": "2024-02-05T03:04:59.809899",
     "exception": false,
     "start_time": "2024-02-05T03:04:59.290753",
     "status": "completed"
    },
    "tags": []
   },
   "outputs": [],
   "source": [
    "x = data.drop(['Class', 'id'], axis=1)\n",
    "y = data['Class']\n",
    "# print(x,y)\n",
    "\n",
    "x_train, x_test, y_train, y_test = train_test_split(x, y, test_size=0.2, stratify=y, random_state=42)"
   ]
  },
  {
   "cell_type": "code",
   "execution_count": 10,
   "id": "ec03bf4d",
   "metadata": {
    "execution": {
     "iopub.execute_input": "2024-02-05T03:04:59.832223Z",
     "iopub.status.busy": "2024-02-05T03:04:59.831807Z",
     "iopub.status.idle": "2024-02-05T03:04:59.837940Z",
     "shell.execute_reply": "2024-02-05T03:04:59.836764Z"
    },
    "papermill": {
     "duration": 0.020905,
     "end_time": "2024-02-05T03:04:59.841105",
     "exception": false,
     "start_time": "2024-02-05T03:04:59.820200",
     "status": "completed"
    },
    "tags": []
   },
   "outputs": [
    {
     "name": "stdout",
     "output_type": "stream",
     "text": [
      "(454904, 29) (113726, 29) (454904,) (113726,)\n"
     ]
    }
   ],
   "source": [
    "print(x_train.shape, x_test.shape, y_train.shape, y_test.shape)"
   ]
  },
  {
   "cell_type": "code",
   "execution_count": 11,
   "id": "fbf0f270",
   "metadata": {
    "execution": {
     "iopub.execute_input": "2024-02-05T03:04:59.861414Z",
     "iopub.status.busy": "2024-02-05T03:04:59.860972Z",
     "iopub.status.idle": "2024-02-05T03:04:59.881907Z",
     "shell.execute_reply": "2024-02-05T03:04:59.880701Z"
    },
    "papermill": {
     "duration": 0.034461,
     "end_time": "2024-02-05T03:04:59.884879",
     "exception": false,
     "start_time": "2024-02-05T03:04:59.850418",
     "status": "completed"
    },
    "tags": []
   },
   "outputs": [],
   "source": [
    "scaler = StandardScaler()\n",
    "x_train['Amount'] = scaler.fit_transform(x_train[['Amount']])\n",
    "x_test['Amount'] = scaler.transform(x_test[['Amount']])"
   ]
  },
  {
   "cell_type": "code",
   "execution_count": 12,
   "id": "bbc7fac3",
   "metadata": {
    "execution": {
     "iopub.execute_input": "2024-02-05T03:04:59.905685Z",
     "iopub.status.busy": "2024-02-05T03:04:59.905270Z",
     "iopub.status.idle": "2024-02-05T03:04:59.910718Z",
     "shell.execute_reply": "2024-02-05T03:04:59.909498Z"
    },
    "papermill": {
     "duration": 0.019202,
     "end_time": "2024-02-05T03:04:59.913159",
     "exception": false,
     "start_time": "2024-02-05T03:04:59.893957",
     "status": "completed"
    },
    "tags": []
   },
   "outputs": [],
   "source": [
    "# input_dim = x_train.shape[1]\n",
    "\n",
    "# # Define the layers\n",
    "# input_layer = Input(shape=(input_dim,))\n",
    "# encoder = Dense(14, activation=\"tanh\")(input_layer)\n",
    "# encoder = Dense(7, activation=\"relu\")(encoder)\n",
    "# decoder = Dense(7, activation='tanh')(encoder)\n",
    "# decoder = Dense(input_dim, activation='relu')(decoder)\n",
    "\n",
    "# autoencoder = Model(inputs=input_layer, outputs=decoder)\n",
    "\n",
    "# # Training accuracy: 0.7691007333415402 \n",
    "# # Test accuracy: 0.7688655188787085"
   ]
  },
  {
   "cell_type": "code",
   "execution_count": 13,
   "id": "2c4cb68b",
   "metadata": {
    "execution": {
     "iopub.execute_input": "2024-02-05T03:04:59.935993Z",
     "iopub.status.busy": "2024-02-05T03:04:59.935616Z",
     "iopub.status.idle": "2024-02-05T03:05:00.179372Z",
     "shell.execute_reply": "2024-02-05T03:05:00.177841Z"
    },
    "papermill": {
     "duration": 0.258238,
     "end_time": "2024-02-05T03:05:00.182366",
     "exception": false,
     "start_time": "2024-02-05T03:04:59.924128",
     "status": "completed"
    },
    "tags": []
   },
   "outputs": [],
   "source": [
    "input_dim = x_train.shape[1]\n",
    "\n",
    "input_layer = Input(shape=(input_dim,))\n",
    "\n",
    "encoder = Dense(14, activation=\"tanh\")(input_layer)\n",
    "encoder = Dense(10, activation=\"relu\")(encoder)\n",
    "encoder = Dense(7, activation=\"relu\")(encoder)\n",
    "\n",
    "decoder = Dense(7, activation='tanh')(encoder)\n",
    "decoder = Dense(10, activation='relu')(decoder)\n",
    "decoder = Dense(input_dim, activation='relu')(decoder)\n",
    "\n",
    "autoencoder = Model(inputs=input_layer, outputs=decoder)\n",
    "\n",
    "# Training accuracy: 0.784978808715685\n",
    "# Test accuracy: 0.7841126919086224"
   ]
  },
  {
   "cell_type": "code",
   "execution_count": 14,
   "id": "6d18bea0",
   "metadata": {
    "execution": {
     "iopub.execute_input": "2024-02-05T03:05:00.202819Z",
     "iopub.status.busy": "2024-02-05T03:05:00.202434Z",
     "iopub.status.idle": "2024-02-05T03:05:00.206855Z",
     "shell.execute_reply": "2024-02-05T03:05:00.205741Z"
    },
    "jupyter": {
     "source_hidden": true
    },
    "papermill": {
     "duration": 0.017535,
     "end_time": "2024-02-05T03:05:00.209320",
     "exception": false,
     "start_time": "2024-02-05T03:05:00.191785",
     "status": "completed"
    },
    "tags": []
   },
   "outputs": [],
   "source": [
    "# input_dim = x_train.shape[1]\n",
    "\n",
    "# input_layer = Input(shape=(input_dim,))\n",
    "\n",
    "# print(input_dim)\n",
    "# # print(input_layer)"
   ]
  },
  {
   "cell_type": "code",
   "execution_count": 15,
   "id": "ef7830dd",
   "metadata": {
    "execution": {
     "iopub.execute_input": "2024-02-05T03:05:00.229100Z",
     "iopub.status.busy": "2024-02-05T03:05:00.228701Z",
     "iopub.status.idle": "2024-02-05T03:05:00.234784Z",
     "shell.execute_reply": "2024-02-05T03:05:00.233354Z"
    },
    "papermill": {
     "duration": 0.019216,
     "end_time": "2024-02-05T03:05:00.237594",
     "exception": false,
     "start_time": "2024-02-05T03:05:00.218378",
     "status": "completed"
    },
    "tags": []
   },
   "outputs": [],
   "source": [
    "# input_dim = x_train.shape[1]\n",
    "\n",
    "# input_layer = Input(shape=(input_dim,))\n",
    "\n",
    "# encoded = Dense(100, activation= 'tanh', activity_regularizer=regularizers.l1(10e-5))(input_layer)\n",
    "# encoded = Dense(50, activation='tanh', activity_regularizer=regularizers.l1(10e-5))(encoded)\n",
    "# encoded = Dense(25, activation='tanh', activity_regularizer=regularizers.l1(10e-5))(encoded)\n",
    "# encoded = Dense(12, activation = 'tanh', activity_regularizer=regularizers.l1(10e-5))(encoded)\n",
    "# encoded = Dense(6, activation='relu')(encoded)\n",
    "\n",
    "# # Decoder network\n",
    "# decoded = Dense(12, activation='tanh')(encoded)\n",
    "# decoded = Dense(25, activation='tanh')(decoded)\n",
    "# decoded = Dense(50, activation='tanh')(decoded)\n",
    "# decoded = Dense(100, activation='tanh')(decoded)\n",
    "\n",
    "# output_layer = Dense(x.shape[1], activation='relu')(decoded)\n",
    "\n",
    "# # Building a model\n",
    "# autoencoder = Model(input_layer, output_layer)\n",
    "\n",
    "# # Training accuracy: 0.8050182016425443\n",
    "# # Test accuracy: 0.8044510490125389\n",
    "# # do not remember number of epochs"
   ]
  },
  {
   "cell_type": "code",
   "execution_count": 16,
   "id": "8f145d7d",
   "metadata": {
    "execution": {
     "iopub.execute_input": "2024-02-05T03:05:00.258117Z",
     "iopub.status.busy": "2024-02-05T03:05:00.257706Z",
     "iopub.status.idle": "2024-02-05T03:05:15.885563Z",
     "shell.execute_reply": "2024-02-05T03:05:15.883918Z"
    },
    "papermill": {
     "duration": 15.641274,
     "end_time": "2024-02-05T03:05:15.888418",
     "exception": false,
     "start_time": "2024-02-05T03:05:00.247144",
     "status": "completed"
    },
    "tags": []
   },
   "outputs": [
    {
     "name": "stdout",
     "output_type": "stream",
     "text": [
      "6042/6042 [==============================] - 15s 2ms/step - loss: 0.5043 - val_loss: 0.4299\n"
     ]
    },
    {
     "data": {
      "text/plain": [
       "<keras.callbacks.History at 0x7e8dbc89b0d0>"
      ]
     },
     "execution_count": 16,
     "metadata": {},
     "output_type": "execute_result"
    }
   ],
   "source": [
    "x_train_nonfraud = x_train[y_train == 0]\n",
    "\n",
    "autoencoder.compile(optimizer='adam', loss='mean_squared_error') # can be binary cross\n",
    "autoencoder.fit(x_train_nonfraud, x_train_nonfraud, epochs=1, batch_size=32, shuffle=True, validation_split=0.15)"
   ]
  },
  {
   "cell_type": "code",
   "execution_count": 17,
   "id": "d7b59909",
   "metadata": {
    "execution": {
     "iopub.execute_input": "2024-02-05T03:05:15.952305Z",
     "iopub.status.busy": "2024-02-05T03:05:15.951863Z",
     "iopub.status.idle": "2024-02-05T03:05:16.014927Z",
     "shell.execute_reply": "2024-02-05T03:05:16.013762Z"
    },
    "papermill": {
     "duration": 0.098794,
     "end_time": "2024-02-05T03:05:16.017734",
     "exception": false,
     "start_time": "2024-02-05T03:05:15.918940",
     "status": "completed"
    },
    "tags": []
   },
   "outputs": [],
   "source": [
    "autoencoder.save('autoencoder_model.h5')\n",
    "autoencoder.save_weights('autoencoder_weights.h5')\n",
    "\n",
    "# autoencoder.load_weights('autoencoder_weights.h5')"
   ]
  },
  {
   "cell_type": "code",
   "execution_count": 18,
   "id": "a547184b",
   "metadata": {
    "execution": {
     "iopub.execute_input": "2024-02-05T03:05:16.081902Z",
     "iopub.status.busy": "2024-02-05T03:05:16.081523Z",
     "iopub.status.idle": "2024-02-05T03:05:50.318858Z",
     "shell.execute_reply": "2024-02-05T03:05:50.317579Z"
    },
    "papermill": {
     "duration": 34.272517,
     "end_time": "2024-02-05T03:05:50.321406",
     "exception": false,
     "start_time": "2024-02-05T03:05:16.048889",
     "status": "completed"
    },
    "tags": []
   },
   "outputs": [
    {
     "name": "stdout",
     "output_type": "stream",
     "text": [
      "14216/14216 [==============================] - 19s 1ms/step\n",
      "3554/3554 [==============================] - 5s 1ms/step\n",
      "Training accuracy: 0.7896523222482106\n",
      "Test accuracy: 0.7893621511351846\n",
      "Train confusionn matrix :  [[216079  11373]\n",
      " [ 84315 143137]]\n",
      "Test confusion matrix :  [[53944  2919]\n",
      " [21036 35827]]\n"
     ]
    }
   ],
   "source": [
    "# 1. Calculate the Mean Squared Error (MSE)\n",
    "train_predictions = autoencoder.predict(x_train)\n",
    "train_mse = np.mean(np.power(x_train - train_predictions, 2), axis=1)\n",
    "\n",
    "test_predictions = autoencoder.predict(x_test)\n",
    "test_mse = np.mean(np.power(x_test - test_predictions, 2), axis=1)\n",
    "\n",
    "# 2. Determine a Threshold\n",
    "threshold = np.percentile(train_mse[y_train == 0], 95)\n",
    "\n",
    "# 3. Evaluate Accuracy\n",
    "train_pred_labels = [1 if mse > threshold else 0 for mse in train_mse]\n",
    "test_pred_labels = [1 if mse > threshold else 0 for mse in test_mse]\n",
    "\n",
    "train_accuracy = accuracy_score(y_train, train_pred_labels)\n",
    "test_accuracy = accuracy_score(y_test, test_pred_labels)\n",
    "\n",
    "print(\"Training accuracy:\", train_accuracy)\n",
    "print(\"Test accuracy:\", test_accuracy)\n",
    "\n",
    "# confusion matrix and recall \n",
    "\n",
    "# confusion matrix for training data\n",
    "train_cm = confusion_matrix(y_train, train_pred_labels)\n",
    "\n",
    "# confusion matrix for testing data\n",
    "test_cm = confusion_matrix(y_test, test_pred_labels)\n",
    "\n",
    "print(\"Train confusionn matrix : \", train_cm)\n",
    "print(\"Test confusion matrix : \", test_cm)\n",
    "#print(f\"Recall: {recall:.2f}\")"
   ]
  },
  {
   "cell_type": "code",
   "execution_count": 19,
   "id": "71e8b0c3",
   "metadata": {
    "execution": {
     "iopub.execute_input": "2024-02-05T03:05:50.527616Z",
     "iopub.status.busy": "2024-02-05T03:05:50.527186Z",
     "iopub.status.idle": "2024-02-05T03:06:00.994441Z",
     "shell.execute_reply": "2024-02-05T03:06:00.993141Z"
    },
    "papermill": {
     "duration": 10.54231,
     "end_time": "2024-02-05T03:06:00.997159",
     "exception": false,
     "start_time": "2024-02-05T03:05:50.454849",
     "status": "completed"
    },
    "tags": []
   },
   "outputs": [
    {
     "name": "stdout",
     "output_type": "stream",
     "text": [
      "3554/3554 [==============================] - 4s 1ms/step\n",
      "179.48441103111122\n"
     ]
    }
   ],
   "source": [
    "x_test_predictions = autoencoder.predict(x_test)\n",
    "mse = np.mean(np.power(x_test - x_test_predictions, 2), axis=1)\n",
    "print(max(mse))"
   ]
  },
  {
   "cell_type": "code",
   "execution_count": 20,
   "id": "2e8d8afe",
   "metadata": {
    "execution": {
     "iopub.execute_input": "2024-02-05T03:06:01.173704Z",
     "iopub.status.busy": "2024-02-05T03:06:01.173287Z",
     "iopub.status.idle": "2024-02-05T03:06:01.185653Z",
     "shell.execute_reply": "2024-02-05T03:06:01.183540Z"
    },
    "jupyter": {
     "source_hidden": true
    },
    "papermill": {
     "duration": 0.104468,
     "end_time": "2024-02-05T03:06:01.189494",
     "exception": false,
     "start_time": "2024-02-05T03:06:01.085026",
     "status": "completed"
    },
    "tags": []
   },
   "outputs": [],
   "source": [
    "import logging\n",
    "import io\n",
    "from datetime import datetime\n",
    "\n",
    "def setup_logging(timestamp):\n",
    "    \"\"\"Sets up the logging environment.\"\"\"\n",
    "    log_filename = f'logs/model_run_{timestamp}.log'\n",
    "    \n",
    "    # Ensure the logs directory exists\n",
    "    if not os.path.exists('logs'):\n",
    "        os.makedirs('logs')\n",
    "    \n",
    "    # Configure logging\n",
    "    logger = logging.getLogger(__name__)\n",
    "    logger.setLevel(logging.INFO)\n",
    "    \n",
    "    # Check if logger has handlers already (important in Jupyter environments)\n",
    "    if not logger.handlers:\n",
    "        file_handler = logging.FileHandler(log_filename)\n",
    "        file_handler.setLevel(logging.INFO)\n",
    "        formatter = logging.Formatter('%(asctime)s - %(levelname)s - %(message)s')\n",
    "        file_handler.setFormatter(formatter)\n",
    "        logger.addHandler(file_handler)\n",
    "    \n",
    "    return logger\n",
    "\n",
    "def log_model_details(timestamp, model_summary, epochs, training_accuracy, testing_accuracy):\n",
    "    \"\"\"\n",
    "    Logs the model details to the specified log file.\n",
    "    \n",
    "    :param timestamp: Timestamp for the log file\n",
    "    :param model_summary: Summary of the model architecture\n",
    "    :param epochs: Number of epochs used for training\n",
    "    :param training_accuracy: The training accuracy\n",
    "    :param testing_accuracy: The testing accuracy\n",
    "    \"\"\"\n",
    "    logger = setup_logging(timestamp)\n",
    "    \n",
    "    # Log the model summary\n",
    "    logger.info(\"Model Summary:\\n\" + model_summary)\n",
    "    \n",
    "    # Log the training details\n",
    "    logger.info(f\"Training for {epochs} epochs.\")\n",
    "    logger.info(f\"Training Accuracy: {training_accuracy}\")\n",
    "    logger.info(f\"Testing Accuracy: {testing_accuracy}\")\n",
    "    logger.info(\"***************************************\")"
   ]
  },
  {
   "cell_type": "code",
   "execution_count": 21,
   "id": "e0cb7500",
   "metadata": {
    "execution": {
     "iopub.execute_input": "2024-02-05T03:06:01.355956Z",
     "iopub.status.busy": "2024-02-05T03:06:01.355548Z",
     "iopub.status.idle": "2024-02-05T03:06:01.365983Z",
     "shell.execute_reply": "2024-02-05T03:06:01.364684Z"
    },
    "jupyter": {
     "source_hidden": true
    },
    "papermill": {
     "duration": 0.097125,
     "end_time": "2024-02-05T03:06:01.368647",
     "exception": false,
     "start_time": "2024-02-05T03:06:01.271522",
     "status": "completed"
    },
    "tags": []
   },
   "outputs": [],
   "source": [
    "stream = io.StringIO()\n",
    "autoencoder.summary(print_fn=lambda x: stream.write(x + '\\n'))\n",
    "summary_string = stream.getvalue()\n",
    "stream.close()\n",
    "\n",
    "# Define your other parameters\n",
    "timestamp = datetime.now().strftime('%Y-%m-%d_%H-%M-%S')\n",
    "epochs = 10\n",
    "training_accuracy = 0.95  # Example value\n",
    "testing_accuracy = 0.90  # Example value\n",
    "\n",
    "# Call the function to log everything\n",
    "log_model_details(timestamp, summary_string, epochs, training_accuracy, testing_accuracy)"
   ]
  },
  {
   "cell_type": "code",
   "execution_count": 22,
   "id": "7bbf4558",
   "metadata": {
    "execution": {
     "iopub.execute_input": "2024-02-05T03:06:01.534280Z",
     "iopub.status.busy": "2024-02-05T03:06:01.533837Z",
     "iopub.status.idle": "2024-02-05T03:06:01.543492Z",
     "shell.execute_reply": "2024-02-05T03:06:01.541986Z"
    },
    "jupyter": {
     "source_hidden": true
    },
    "papermill": {
     "duration": 0.09653,
     "end_time": "2024-02-05T03:06:01.547331",
     "exception": false,
     "start_time": "2024-02-05T03:06:01.450801",
     "status": "completed"
    },
    "tags": []
   },
   "outputs": [
    {
     "data": {
      "text/plain": [
       "'\"\\n# Define a Policy-Based RL Environment\\nclass FraudDetectionEnv(gym.Env):\\n    def __init__(self):\\n        super(FraudDetectionEnv, self).__init__()\\n        self.action_space = gym.spaces.Discrete(n_actions)\\n        self.observation_space = gym.spaces.Box(low=0, high=1, shape=(n_features + 1,))\\n\\n    def step(self, action):\\n        # Implement the logic to handle actions and return the next state, reward, done, info\\n        pass\\n\\n    def reset(self):\\n        # Reset the environment to an initial state\\n        pass\\n\\n# Initialize the environment and the RL agent\\nenv = FraudDetectionEnv()\\nmodel = PPO(\"MlpPolicy\", env, verbose=1)\\n\\n# Train the RL agent\\nmodel.learn(total_timesteps=10000)\\n\\n# Example of using the trained autoencoder and RL agent in tandem\\ndef make_decision(transaction_data):\\n    # Use autoencoder for anomaly detection\\n    reconstructed = autoencoder.predict(transaction_data)\\n    reconstruction_error = np.mean(np.abs(transaction_data - reconstructed), axis=1)\\n\\n    # Include reconstruction error in the state for the RL agent\\n    state = np.concatenate([transaction_data, reconstruction_error[:, None]], axis=1)\\n    action = model.predict(state, deterministic=True)[0]\\n    \\n    return action\\n\\n# Example transaction data (dummy data for illustration)\\nsample_transaction = np.random.rand(1, n_features)\\n\\n# Make a decision on the transaction\\ndecision = make_decision(sample_transaction)\\nprint(\"Decision on transaction:\", decision)\\n'"
      ]
     },
     "execution_count": 22,
     "metadata": {},
     "output_type": "execute_result"
    }
   ],
   "source": [
    "\"\"\"\"\n",
    "# Define a Policy-Based RL Environment\n",
    "class FraudDetectionEnv(gym.Env):\n",
    "    def __init__(self):\n",
    "        super(FraudDetectionEnv, self).__init__()\n",
    "        self.action_space = gym.spaces.Discrete(n_actions)\n",
    "        self.observation_space = gym.spaces.Box(low=0, high=1, shape=(n_features + 1,))\n",
    "\n",
    "    def step(self, action):\n",
    "        # Implement the logic to handle actions and return the next state, reward, done, info\n",
    "        pass\n",
    "\n",
    "    def reset(self):\n",
    "        # Reset the environment to an initial state\n",
    "        pass\n",
    "\n",
    "# Initialize the environment and the RL agent\n",
    "env = FraudDetectionEnv()\n",
    "model = PPO(\"MlpPolicy\", env, verbose=1)\n",
    "\n",
    "# Train the RL agent\n",
    "model.learn(total_timesteps=10000)\n",
    "\n",
    "# Example of using the trained autoencoder and RL agent in tandem\n",
    "def make_decision(transaction_data):\n",
    "    # Use autoencoder for anomaly detection\n",
    "    reconstructed = autoencoder.predict(transaction_data)\n",
    "    reconstruction_error = np.mean(np.abs(transaction_data - reconstructed), axis=1)\n",
    "\n",
    "    # Include reconstruction error in the state for the RL agent\n",
    "    state = np.concatenate([transaction_data, reconstruction_error[:, None]], axis=1)\n",
    "    action = model.predict(state, deterministic=True)[0]\n",
    "    \n",
    "    return action\n",
    "\n",
    "# Example transaction data (dummy data for illustration)\n",
    "sample_transaction = np.random.rand(1, n_features)\n",
    "\n",
    "# Make a decision on the transaction\n",
    "decision = make_decision(sample_transaction)\n",
    "print(\"Decision on transaction:\", decision)\n",
    "\"\"\""
   ]
  }
 ],
 "metadata": {
  "kaggle": {
   "accelerator": "none",
   "dataSources": [
    {
     "datasetId": 3752264,
     "sourceId": 6492730,
     "sourceType": "datasetVersion"
    }
   ],
   "dockerImageVersionId": 30558,
   "isGpuEnabled": false,
   "isInternetEnabled": true,
   "language": "python",
   "sourceType": "notebook"
  },
  "kernelspec": {
   "display_name": "Python 3",
   "language": "python",
   "name": "python3"
  },
  "language_info": {
   "codemirror_mode": {
    "name": "ipython",
    "version": 3
   },
   "file_extension": ".py",
   "mimetype": "text/x-python",
   "name": "python",
   "nbconvert_exporter": "python",
   "pygments_lexer": "ipython3",
   "version": "3.10.12"
  },
  "papermill": {
   "default_parameters": {},
   "duration": 108.743157,
   "end_time": "2024-02-05T03:06:03.460430",
   "environment_variables": {},
   "exception": null,
   "input_path": "__notebook__.ipynb",
   "output_path": "__notebook__.ipynb",
   "parameters": {},
   "start_time": "2024-02-05T03:04:14.717273",
   "version": "2.4.0"
  }
 },
 "nbformat": 4,
 "nbformat_minor": 5
}
