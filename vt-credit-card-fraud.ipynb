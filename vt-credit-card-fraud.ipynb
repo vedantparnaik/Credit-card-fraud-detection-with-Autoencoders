{
 "cells": [
  {
   "cell_type": "code",
   "execution_count": 1,
   "id": "3e738674",
   "metadata": {
    "execution": {
     "iopub.execute_input": "2024-02-03T06:44:16.539805Z",
     "iopub.status.busy": "2024-02-03T06:44:16.539298Z",
     "iopub.status.idle": "2024-02-03T06:44:16.543476Z",
     "shell.execute_reply": "2024-02-03T06:44:16.542743Z"
    },
    "papermill": {
     "duration": 0.013087,
     "end_time": "2024-02-03T06:44:16.545325",
     "exception": false,
     "start_time": "2024-02-03T06:44:16.532238",
     "status": "completed"
    },
    "tags": []
   },
   "outputs": [],
   "source": [
    "# # !pip uninstall jax -y\n",
    "# # !pip install jax\n",
    "# incase you get error for tf wrt jax\n",
    "# we can use this to deploy"
   ]
  },
  {
   "cell_type": "code",
   "execution_count": 2,
   "id": "b855a4da",
   "metadata": {
    "execution": {
     "iopub.execute_input": "2024-02-03T06:44:16.557758Z",
     "iopub.status.busy": "2024-02-03T06:44:16.557207Z",
     "iopub.status.idle": "2024-02-03T06:44:16.562176Z",
     "shell.execute_reply": "2024-02-03T06:44:16.560724Z"
    },
    "papermill": {
     "duration": 0.014248,
     "end_time": "2024-02-03T06:44:16.564925",
     "exception": false,
     "start_time": "2024-02-03T06:44:16.550677",
     "status": "completed"
    },
    "tags": []
   },
   "outputs": [],
   "source": [
    "# !pip install stable-baselines3[extra]\n",
    "# from stable_baselines3 import PPO\n",
    "# import gym"
   ]
  },
  {
   "cell_type": "code",
   "execution_count": 3,
   "id": "02884373",
   "metadata": {
    "execution": {
     "iopub.execute_input": "2024-02-03T06:44:16.578033Z",
     "iopub.status.busy": "2024-02-03T06:44:16.577672Z",
     "iopub.status.idle": "2024-02-03T06:45:09.276102Z",
     "shell.execute_reply": "2024-02-03T06:45:09.275234Z"
    },
    "papermill": {
     "duration": 52.707561,
     "end_time": "2024-02-03T06:45:09.278668",
     "exception": false,
     "start_time": "2024-02-03T06:44:16.571107",
     "status": "completed"
    },
    "tags": []
   },
   "outputs": [
    {
     "name": "stdout",
     "output_type": "stream",
     "text": [
      "Collecting colabcode\r\n",
      "  Downloading colabcode-0.3.0-py3-none-any.whl (5.0 kB)\r\n",
      "Collecting pyngrok>=5.0.0 (from colabcode)\r\n",
      "  Downloading pyngrok-7.1.0-py3-none-any.whl (21 kB)\r\n",
      "Collecting nest-asyncio==1.4.3 (from colabcode)\r\n",
      "  Downloading nest_asyncio-1.4.3-py3-none-any.whl (5.3 kB)\r\n",
      "Collecting uvicorn==0.13.1 (from colabcode)\r\n",
      "  Downloading uvicorn-0.13.1-py3-none-any.whl (45 kB)\r\n",
      "\u001b[2K     \u001b[90m━━━━━━━━━━━━━━━━━━━━━━━━━━━━━━━━━━━━━━━━\u001b[0m \u001b[32m45.5/45.5 kB\u001b[0m \u001b[31m2.2 MB/s\u001b[0m eta \u001b[36m0:00:00\u001b[0m\r\n",
      "\u001b[?25hCollecting jupyterlab==3.0.7 (from colabcode)\r\n",
      "  Downloading jupyterlab-3.0.7-py3-none-any.whl (8.3 MB)\r\n",
      "\u001b[2K     \u001b[90m━━━━━━━━━━━━━━━━━━━━━━━━━━━━━━━━━━━━━━━━\u001b[0m \u001b[32m8.3/8.3 MB\u001b[0m \u001b[31m59.7 MB/s\u001b[0m eta \u001b[36m0:00:00\u001b[0m\r\n",
      "\u001b[?25hRequirement already satisfied: ipython in /opt/conda/lib/python3.10/site-packages (from jupyterlab==3.0.7->colabcode) (8.14.0)\r\n",
      "Requirement already satisfied: packaging in /opt/conda/lib/python3.10/site-packages (from jupyterlab==3.0.7->colabcode) (21.3)\r\n",
      "Requirement already satisfied: tornado>=6.1.0 in /opt/conda/lib/python3.10/site-packages (from jupyterlab==3.0.7->colabcode) (6.3.2)\r\n",
      "Requirement already satisfied: jupyter-core in /opt/conda/lib/python3.10/site-packages (from jupyterlab==3.0.7->colabcode) (5.3.1)\r\n",
      "Requirement already satisfied: jupyterlab-server~=2.0 in /opt/conda/lib/python3.10/site-packages (from jupyterlab==3.0.7->colabcode) (2.23.0)\r\n",
      "Collecting jupyter-server~=1.2 (from jupyterlab==3.0.7->colabcode)\r\n",
      "  Downloading jupyter_server-1.24.0-py3-none-any.whl (347 kB)\r\n",
      "\u001b[2K     \u001b[90m━━━━━━━━━━━━━━━━━━━━━━━━━━━━━━━━━━━━━━\u001b[0m \u001b[32m347.5/347.5 kB\u001b[0m \u001b[31m27.2 MB/s\u001b[0m eta \u001b[36m0:00:00\u001b[0m\r\n",
      "\u001b[?25hCollecting nbclassic~=0.2 (from jupyterlab==3.0.7->colabcode)\r\n",
      "  Downloading nbclassic-0.5.6-py3-none-any.whl (10.0 MB)\r\n",
      "\u001b[2K     \u001b[90m━━━━━━━━━━━━━━━━━━━━━━━━━━━━━━━━━━━━━━━━\u001b[0m \u001b[32m10.0/10.0 MB\u001b[0m \u001b[31m85.8 MB/s\u001b[0m eta \u001b[36m0:00:00\u001b[0m\r\n",
      "\u001b[?25hRequirement already satisfied: jinja2>=2.10 in /opt/conda/lib/python3.10/site-packages (from jupyterlab==3.0.7->colabcode) (3.1.2)\r\n",
      "Collecting click==7.* (from uvicorn==0.13.1->colabcode)\r\n",
      "  Downloading click-7.1.2-py2.py3-none-any.whl (82 kB)\r\n",
      "\u001b[2K     \u001b[90m━━━━━━━━━━━━━━━━━━━━━━━━━━━━━━━━━━━━━━━━\u001b[0m \u001b[32m82.8/82.8 kB\u001b[0m \u001b[31m7.8 MB/s\u001b[0m eta \u001b[36m0:00:00\u001b[0m\r\n",
      "\u001b[?25hRequirement already satisfied: h11>=0.8 in /opt/conda/lib/python3.10/site-packages (from uvicorn==0.13.1->colabcode) (0.14.0)\r\n",
      "Requirement already satisfied: PyYAML in /opt/conda/lib/python3.10/site-packages (from pyngrok>=5.0.0->colabcode) (6.0)\r\n",
      "Requirement already satisfied: MarkupSafe>=2.0 in /opt/conda/lib/python3.10/site-packages (from jinja2>=2.10->jupyterlab==3.0.7->colabcode) (2.1.3)\r\n",
      "Requirement already satisfied: anyio<4,>=3.1.0 in /opt/conda/lib/python3.10/site-packages (from jupyter-server~=1.2->jupyterlab==3.0.7->colabcode) (3.7.0)\r\n",
      "Requirement already satisfied: argon2-cffi in /opt/conda/lib/python3.10/site-packages (from jupyter-server~=1.2->jupyterlab==3.0.7->colabcode) (21.3.0)\r\n",
      "Requirement already satisfied: jupyter-client>=6.1.12 in /opt/conda/lib/python3.10/site-packages (from jupyter-server~=1.2->jupyterlab==3.0.7->colabcode) (7.4.9)\r\n",
      "Requirement already satisfied: nbconvert>=6.4.4 in /opt/conda/lib/python3.10/site-packages (from jupyter-server~=1.2->jupyterlab==3.0.7->colabcode) (6.4.5)\r\n",
      "Requirement already satisfied: nbformat>=5.2.0 in /opt/conda/lib/python3.10/site-packages (from jupyter-server~=1.2->jupyterlab==3.0.7->colabcode) (5.9.0)\r\n",
      "Requirement already satisfied: prometheus-client in /opt/conda/lib/python3.10/site-packages (from jupyter-server~=1.2->jupyterlab==3.0.7->colabcode) (0.17.0)\r\n",
      "Requirement already satisfied: pyzmq>=17 in /opt/conda/lib/python3.10/site-packages (from jupyter-server~=1.2->jupyterlab==3.0.7->colabcode) (25.1.0)\r\n",
      "Requirement already satisfied: Send2Trash in /opt/conda/lib/python3.10/site-packages (from jupyter-server~=1.2->jupyterlab==3.0.7->colabcode) (1.8.2)\r\n",
      "Requirement already satisfied: terminado>=0.8.3 in /opt/conda/lib/python3.10/site-packages (from jupyter-server~=1.2->jupyterlab==3.0.7->colabcode) (0.17.1)\r\n",
      "Requirement already satisfied: traitlets>=5.1 in /opt/conda/lib/python3.10/site-packages (from jupyter-server~=1.2->jupyterlab==3.0.7->colabcode) (5.9.0)\r\n",
      "Requirement already satisfied: websocket-client in /opt/conda/lib/python3.10/site-packages (from jupyter-server~=1.2->jupyterlab==3.0.7->colabcode) (1.6.0)\r\n",
      "Requirement already satisfied: platformdirs>=2.5 in /opt/conda/lib/python3.10/site-packages (from jupyter-core->jupyterlab==3.0.7->colabcode) (3.10.0)\r\n",
      "Requirement already satisfied: babel>=2.10 in /opt/conda/lib/python3.10/site-packages (from jupyterlab-server~=2.0->jupyterlab==3.0.7->colabcode) (2.12.1)\r\n",
      "Requirement already satisfied: json5>=0.9.0 in /opt/conda/lib/python3.10/site-packages (from jupyterlab-server~=2.0->jupyterlab==3.0.7->colabcode) (0.9.14)\r\n",
      "Requirement already satisfied: jsonschema>=4.17.3 in /opt/conda/lib/python3.10/site-packages (from jupyterlab-server~=2.0->jupyterlab==3.0.7->colabcode) (4.17.3)\r\n",
      "Requirement already satisfied: requests>=2.28 in /opt/conda/lib/python3.10/site-packages (from jupyterlab-server~=2.0->jupyterlab==3.0.7->colabcode) (2.31.0)\r\n",
      "Requirement already satisfied: ipython-genutils in /opt/conda/lib/python3.10/site-packages (from nbclassic~=0.2->jupyterlab==3.0.7->colabcode) (0.2.0)\r\n",
      "Requirement already satisfied: notebook-shim>=0.2.3 in /opt/conda/lib/python3.10/site-packages (from nbclassic~=0.2->jupyterlab==3.0.7->colabcode) (0.2.3)\r\n",
      "INFO: pip is looking at multiple versions of nbclassic to determine which version is compatible with other requirements. This could take a while.\r\n",
      "Collecting nbclassic~=0.2 (from jupyterlab==3.0.7->colabcode)\r\n",
      "  Downloading nbclassic-0.5.5-py3-none-any.whl (10.0 MB)\r\n",
      "\u001b[2K     \u001b[90m━━━━━━━━━━━━━━━━━━━━━━━━━━━━━━━━━━━━━━━━\u001b[0m \u001b[32m10.0/10.0 MB\u001b[0m \u001b[31m90.0 MB/s\u001b[0m eta \u001b[36m0:00:00\u001b[0m\r\n",
      "\u001b[?25h  Downloading nbclassic-0.5.4-py3-none-any.whl (10.0 MB)\r\n",
      "\u001b[2K     \u001b[90m━━━━━━━━━━━━━━━━━━━━━━━━━━━━━━━━━━━━━━━━\u001b[0m \u001b[32m10.0/10.0 MB\u001b[0m \u001b[31m82.9 MB/s\u001b[0m eta \u001b[36m0:00:00\u001b[0m\r\n",
      "\u001b[?25h  Downloading nbclassic-0.5.3-py3-none-any.whl (10.0 MB)\r\n",
      "\u001b[2K     \u001b[90m━━━━━━━━━━━━━━━━━━━━━━━━━━━━━━━━━━━━━━━━\u001b[0m \u001b[32m10.0/10.0 MB\u001b[0m \u001b[31m89.0 MB/s\u001b[0m eta \u001b[36m0:00:00\u001b[0m\r\n",
      "\u001b[?25h  Downloading nbclassic-0.5.2-py3-none-any.whl (10.0 MB)\r\n",
      "\u001b[2K     \u001b[90m━━━━━━━━━━━━━━━━━━━━━━━━━━━━━━━━━━━━━━━━\u001b[0m \u001b[32m10.0/10.0 MB\u001b[0m \u001b[31m76.3 MB/s\u001b[0m eta \u001b[36m0:00:00\u001b[0m\r\n",
      "\u001b[?25h  Downloading nbclassic-0.5.1-py3-none-any.whl (10.0 MB)\r\n",
      "\u001b[2K     \u001b[90m━━━━━━━━━━━━━━━━━━━━━━━━━━━━━━━━━━━━━━━━\u001b[0m \u001b[32m10.0/10.0 MB\u001b[0m \u001b[31m96.4 MB/s\u001b[0m eta \u001b[36m0:00:00\u001b[0m\r\n",
      "\u001b[?25h  Downloading nbclassic-0.4.8-py3-none-any.whl (9.8 MB)\r\n",
      "\u001b[2K     \u001b[90m━━━━━━━━━━━━━━━━━━━━━━━━━━━━━━━━━━━━━━━━\u001b[0m \u001b[32m9.8/9.8 MB\u001b[0m \u001b[31m92.0 MB/s\u001b[0m eta \u001b[36m0:00:00\u001b[0m\r\n",
      "\u001b[?25h  Downloading nbclassic-0.4.7-py3-none-any.whl (9.8 MB)\r\n",
      "\u001b[2K     \u001b[90m━━━━━━━━━━━━━━━━━━━━━━━━━━━━━━━━━━━━━━━━\u001b[0m \u001b[32m9.8/9.8 MB\u001b[0m \u001b[31m101.3 MB/s\u001b[0m eta \u001b[36m0:00:00\u001b[0m\r\n",
      "\u001b[?25hINFO: pip is looking at multiple versions of nbclassic to determine which version is compatible with other requirements. This could take a while.\r\n",
      "  Downloading nbclassic-0.4.6-py3-none-any.whl (9.8 MB)\r\n",
      "\u001b[2K     \u001b[90m━━━━━━━━━━━━━━━━━━━━━━━━━━━━━━━━━━━━━━━━\u001b[0m \u001b[32m9.8/9.8 MB\u001b[0m \u001b[31m98.8 MB/s\u001b[0m eta \u001b[36m0:00:00\u001b[0m\r\n",
      "\u001b[?25h  Downloading nbclassic-0.4.5-py3-none-any.whl (9.8 MB)\r\n",
      "\u001b[2K     \u001b[90m━━━━━━━━━━━━━━━━━━━━━━━━━━━━━━━━━━━━━━━━\u001b[0m \u001b[32m9.8/9.8 MB\u001b[0m \u001b[31m97.7 MB/s\u001b[0m eta \u001b[36m0:00:00\u001b[0m\r\n",
      "\u001b[?25h  Downloading nbclassic-0.4.4-py3-none-any.whl (9.8 MB)\r\n",
      "\u001b[2K     \u001b[90m━━━━━━━━━━━━━━━━━━━━━━━━━━━━━━━━━━━━━━━━\u001b[0m \u001b[32m9.8/9.8 MB\u001b[0m \u001b[31m78.6 MB/s\u001b[0m eta \u001b[36m0:00:00\u001b[0m\r\n",
      "\u001b[?25h  Downloading nbclassic-0.4.3-py3-none-any.whl (9.7 MB)\r\n",
      "\u001b[2K     \u001b[90m━━━━━━━━━━━━━━━━━━━━━━━━━━━━━━━━━━━━━━━━\u001b[0m \u001b[32m9.7/9.7 MB\u001b[0m \u001b[31m97.1 MB/s\u001b[0m eta \u001b[36m0:00:00\u001b[0m\r\n",
      "\u001b[?25h  Downloading nbclassic-0.4.2-py3-none-any.whl (9.7 MB)\r\n",
      "\u001b[2K     \u001b[90m━━━━━━━━━━━━━━━━━━━━━━━━━━━━━━━━━━━━━━━━\u001b[0m \u001b[32m9.7/9.7 MB\u001b[0m \u001b[31m23.4 MB/s\u001b[0m eta \u001b[36m0:00:00\u001b[0m\r\n",
      "\u001b[?25hINFO: This is taking longer than usual. You might need to provide the dependency resolver with stricter constraints to reduce runtime. See https://pip.pypa.io/warnings/backtracking for guidance. If you want to abort this run, press Ctrl + C.\r\n",
      "  Downloading nbclassic-0.4.0-py3-none-any.whl (9.7 MB)\r\n",
      "\u001b[2K     \u001b[90m━━━━━━━━━━━━━━━━━━━━━━━━━━━━━━━━━━━━━━━━\u001b[0m \u001b[32m9.7/9.7 MB\u001b[0m \u001b[31m85.6 MB/s\u001b[0m eta \u001b[36m0:00:00\u001b[0m\r\n",
      "\u001b[?25h  Downloading nbclassic-0.3.7-py3-none-any.whl (13 kB)\r\n",
      "Requirement already satisfied: notebook<7 in /opt/conda/lib/python3.10/site-packages (from nbclassic~=0.2->jupyterlab==3.0.7->colabcode) (6.5.4)\r\n",
      "Requirement already satisfied: pyparsing!=3.0.5,>=2.0.2 in /opt/conda/lib/python3.10/site-packages (from packaging->jupyterlab==3.0.7->colabcode) (3.0.9)\r\n",
      "Requirement already satisfied: backcall in /opt/conda/lib/python3.10/site-packages (from ipython->jupyterlab==3.0.7->colabcode) (0.2.0)\r\n",
      "Requirement already satisfied: decorator in /opt/conda/lib/python3.10/site-packages (from ipython->jupyterlab==3.0.7->colabcode) (5.1.1)\r\n",
      "Requirement already satisfied: jedi>=0.16 in /opt/conda/lib/python3.10/site-packages (from ipython->jupyterlab==3.0.7->colabcode) (0.18.2)\r\n",
      "Requirement already satisfied: matplotlib-inline in /opt/conda/lib/python3.10/site-packages (from ipython->jupyterlab==3.0.7->colabcode) (0.1.6)\r\n",
      "Requirement already satisfied: pickleshare in /opt/conda/lib/python3.10/site-packages (from ipython->jupyterlab==3.0.7->colabcode) (0.7.5)\r\n",
      "Requirement already satisfied: prompt-toolkit!=3.0.37,<3.1.0,>=3.0.30 in /opt/conda/lib/python3.10/site-packages (from ipython->jupyterlab==3.0.7->colabcode) (3.0.38)\r\n",
      "Requirement already satisfied: pygments>=2.4.0 in /opt/conda/lib/python3.10/site-packages (from ipython->jupyterlab==3.0.7->colabcode) (2.15.1)\r\n",
      "Requirement already satisfied: stack-data in /opt/conda/lib/python3.10/site-packages (from ipython->jupyterlab==3.0.7->colabcode) (0.6.2)\r\n",
      "Requirement already satisfied: pexpect>4.3 in /opt/conda/lib/python3.10/site-packages (from ipython->jupyterlab==3.0.7->colabcode) (4.8.0)\r\n",
      "Requirement already satisfied: idna>=2.8 in /opt/conda/lib/python3.10/site-packages (from anyio<4,>=3.1.0->jupyter-server~=1.2->jupyterlab==3.0.7->colabcode) (3.4)\r\n",
      "Requirement already satisfied: sniffio>=1.1 in /opt/conda/lib/python3.10/site-packages (from anyio<4,>=3.1.0->jupyter-server~=1.2->jupyterlab==3.0.7->colabcode) (1.3.0)\r\n",
      "Requirement already satisfied: exceptiongroup in /opt/conda/lib/python3.10/site-packages (from anyio<4,>=3.1.0->jupyter-server~=1.2->jupyterlab==3.0.7->colabcode) (1.1.1)\r\n",
      "Requirement already satisfied: parso<0.9.0,>=0.8.0 in /opt/conda/lib/python3.10/site-packages (from jedi>=0.16->ipython->jupyterlab==3.0.7->colabcode) (0.8.3)\r\n",
      "Requirement already satisfied: attrs>=17.4.0 in /opt/conda/lib/python3.10/site-packages (from jsonschema>=4.17.3->jupyterlab-server~=2.0->jupyterlab==3.0.7->colabcode) (23.1.0)\r\n",
      "Requirement already satisfied: pyrsistent!=0.17.0,!=0.17.1,!=0.17.2,>=0.14.0 in /opt/conda/lib/python3.10/site-packages (from jsonschema>=4.17.3->jupyterlab-server~=2.0->jupyterlab==3.0.7->colabcode) (0.19.3)\r\n",
      "Requirement already satisfied: entrypoints in /opt/conda/lib/python3.10/site-packages (from jupyter-client>=6.1.12->jupyter-server~=1.2->jupyterlab==3.0.7->colabcode) (0.4)\r\n",
      "INFO: pip is looking at multiple versions of jupyter-client to determine which version is compatible with other requirements. This could take a while.\r\n",
      "Collecting jupyter-client>=6.1.12 (from jupyter-server~=1.2->jupyterlab==3.0.7->colabcode)\r\n",
      "  Downloading jupyter_client-8.6.0-py3-none-any.whl (105 kB)\r\n",
      "\u001b[2K     \u001b[90m━━━━━━━━━━━━━━━━━━━━━━━━━━━━━━━━━━━━━━━\u001b[0m \u001b[32m105.9/105.9 kB\u001b[0m \u001b[31m9.6 MB/s\u001b[0m eta \u001b[36m0:00:00\u001b[0m\r\n",
      "\u001b[?25hRequirement already satisfied: python-dateutil>=2.8.2 in /opt/conda/lib/python3.10/site-packages (from jupyter-client>=6.1.12->jupyter-server~=1.2->jupyterlab==3.0.7->colabcode) (2.8.2)\r\n",
      "Requirement already satisfied: mistune<2,>=0.8.1 in /opt/conda/lib/python3.10/site-packages (from nbconvert>=6.4.4->jupyter-server~=1.2->jupyterlab==3.0.7->colabcode) (0.8.4)\r\n",
      "Requirement already satisfied: jupyterlab-pygments in /opt/conda/lib/python3.10/site-packages (from nbconvert>=6.4.4->jupyter-server~=1.2->jupyterlab==3.0.7->colabcode) (0.2.2)\r\n",
      "Requirement already satisfied: bleach in /opt/conda/lib/python3.10/site-packages (from nbconvert>=6.4.4->jupyter-server~=1.2->jupyterlab==3.0.7->colabcode) (6.0.0)\r\n",
      "Requirement already satisfied: pandocfilters>=1.4.1 in /opt/conda/lib/python3.10/site-packages (from nbconvert>=6.4.4->jupyter-server~=1.2->jupyterlab==3.0.7->colabcode) (1.5.0)\r\n",
      "Requirement already satisfied: testpath in /opt/conda/lib/python3.10/site-packages (from nbconvert>=6.4.4->jupyter-server~=1.2->jupyterlab==3.0.7->colabcode) (0.6.0)\r\n",
      "Requirement already satisfied: defusedxml in /opt/conda/lib/python3.10/site-packages (from nbconvert>=6.4.4->jupyter-server~=1.2->jupyterlab==3.0.7->colabcode) (0.7.1)\r\n",
      "Requirement already satisfied: beautifulsoup4 in /opt/conda/lib/python3.10/site-packages (from nbconvert>=6.4.4->jupyter-server~=1.2->jupyterlab==3.0.7->colabcode) (4.12.2)\r\n",
      "Requirement already satisfied: nbclient<0.6.0,>=0.5.0 in /opt/conda/lib/python3.10/site-packages (from nbconvert>=6.4.4->jupyter-server~=1.2->jupyterlab==3.0.7->colabcode) (0.5.13)\r\n",
      "Requirement already satisfied: fastjsonschema in /opt/conda/lib/python3.10/site-packages (from nbformat>=5.2.0->jupyter-server~=1.2->jupyterlab==3.0.7->colabcode) (2.17.1)\r\n",
      "INFO: pip is looking at multiple versions of notebook to determine which version is compatible with other requirements. This could take a while.\r\n",
      "Collecting notebook<7 (from nbclassic~=0.2->jupyterlab==3.0.7->colabcode)\r\n",
      "  Downloading notebook-6.5.6-py3-none-any.whl (529 kB)\r\n",
      "\u001b[2K     \u001b[90m━━━━━━━━━━━━━━━━━━━━━━━━━━━━━━━━━━━━━━\u001b[0m \u001b[32m529.8/529.8 kB\u001b[0m \u001b[31m41.0 MB/s\u001b[0m eta \u001b[36m0:00:00\u001b[0m\r\n",
      "\u001b[?25hCollecting pyzmq>=17 (from jupyter-server~=1.2->jupyterlab==3.0.7->colabcode)\r\n",
      "  Downloading pyzmq-24.0.1-cp310-cp310-manylinux_2_17_x86_64.manylinux2014_x86_64.whl (1.1 MB)\r\n",
      "\u001b[2K     \u001b[90m━━━━━━━━━━━━━━━━━━━━━━━━━━━━━━━━━━━━━━━━\u001b[0m \u001b[32m1.1/1.1 MB\u001b[0m \u001b[31m60.0 MB/s\u001b[0m eta \u001b[36m0:00:00\u001b[0m\r\n",
      "\u001b[?25hCollecting notebook<7 (from nbclassic~=0.2->jupyterlab==3.0.7->colabcode)\r\n",
      "  Downloading notebook-6.5.5-py3-none-any.whl (529 kB)\r\n",
      "\u001b[2K     \u001b[90m━━━━━━━━━━━━━━━━━━━━━━━━━━━━━━━━━━━━━━\u001b[0m \u001b[32m529.8/529.8 kB\u001b[0m \u001b[31m32.2 MB/s\u001b[0m eta \u001b[36m0:00:00\u001b[0m\r\n",
      "\u001b[?25h  Downloading notebook-6.5.3-py3-none-any.whl (529 kB)\r\n",
      "\u001b[2K     \u001b[90m━━━━━━━━━━━━━━━━━━━━━━━━━━━━━━━━━━━━━━\u001b[0m \u001b[32m529.7/529.7 kB\u001b[0m \u001b[31m42.9 MB/s\u001b[0m eta \u001b[36m0:00:00\u001b[0m\r\n",
      "\u001b[?25h  Downloading notebook-6.5.2-py3-none-any.whl (439 kB)\r\n",
      "\u001b[2K     \u001b[90m━━━━━━━━━━━━━━━━━━━━━━━━━━━━━━━━━━━━━━\u001b[0m \u001b[32m439.1/439.1 kB\u001b[0m \u001b[31m34.1 MB/s\u001b[0m eta \u001b[36m0:00:00\u001b[0m\r\n",
      "\u001b[?25h  Downloading notebook-6.5.1-py3-none-any.whl (439 kB)\r\n",
      "\u001b[2K     \u001b[90m━━━━━━━━━━━━━━━━━━━━━━━━━━━━━━━━━━━━━━\u001b[0m \u001b[32m439.1/439.1 kB\u001b[0m \u001b[31m31.3 MB/s\u001b[0m eta \u001b[36m0:00:00\u001b[0m\r\n",
      "\u001b[?25h  Downloading notebook-6.4.13-py3-none-any.whl (9.9 MB)\r\n",
      "\u001b[2K     \u001b[90m━━━━━━━━━━━━━━━━━━━━━━━━━━━━━━━━━━━━━━━━\u001b[0m \u001b[32m9.9/9.9 MB\u001b[0m \u001b[31m99.7 MB/s\u001b[0m eta \u001b[36m0:00:00\u001b[0m\r\n",
      "\u001b[?25h  Downloading notebook-6.4.12-py3-none-any.whl (9.9 MB)\r\n",
      "\u001b[2K     \u001b[90m━━━━━━━━━━━━━━━━━━━━━━━━━━━━━━━━━━━━━━━━\u001b[0m \u001b[32m9.9/9.9 MB\u001b[0m \u001b[31m108.9 MB/s\u001b[0m eta \u001b[36m0:00:00\u001b[0m\r\n",
      "\u001b[?25hINFO: pip is looking at multiple versions of notebook to determine which version is compatible with other requirements. This could take a while.\r\n",
      "  Downloading notebook-6.4.11-py3-none-any.whl (9.9 MB)\r\n",
      "\u001b[2K     \u001b[90m━━━━━━━━━━━━━━━━━━━━━━━━━━━━━━━━━━━━━━━━\u001b[0m \u001b[32m9.9/9.9 MB\u001b[0m \u001b[31m80.8 MB/s\u001b[0m eta \u001b[36m0:00:00\u001b[0m\r\n",
      "\u001b[?25h  Downloading notebook-6.4.10-py3-none-any.whl (9.9 MB)\r\n",
      "\u001b[2K     \u001b[90m━━━━━━━━━━━━━━━━━━━━━━━━━━━━━━━━━━━━━━━━\u001b[0m \u001b[32m9.9/9.9 MB\u001b[0m \u001b[31m75.4 MB/s\u001b[0m eta \u001b[36m0:00:00\u001b[0m\r\n",
      "\u001b[?25h  Downloading notebook-6.4.9-py3-none-any.whl (9.9 MB)\r\n",
      "\u001b[2K     \u001b[90m━━━━━━━━━━━━━━━━━━━━━━━━━━━━━━━━━━━━━━━━\u001b[0m \u001b[32m9.9/9.9 MB\u001b[0m \u001b[31m96.1 MB/s\u001b[0m eta \u001b[36m0:00:00\u001b[0m\r\n",
      "\u001b[?25h  Downloading notebook-6.4.8-py3-none-any.whl (9.9 MB)\r\n",
      "\u001b[2K     \u001b[90m━━━━━━━━━━━━━━━━━━━━━━━━━━━━━━━━━━━━━━━━\u001b[0m \u001b[32m9.9/9.9 MB\u001b[0m \u001b[31m104.4 MB/s\u001b[0m eta \u001b[36m0:00:00\u001b[0m\r\n",
      "\u001b[?25h  Downloading notebook-6.4.7-py3-none-any.whl (9.9 MB)\r\n",
      "\u001b[2K     \u001b[90m━━━━━━━━━━━━━━━━━━━━━━━━━━━━━━━━━━━━━━━━\u001b[0m \u001b[32m9.9/9.9 MB\u001b[0m \u001b[31m100.8 MB/s\u001b[0m eta \u001b[36m0:00:00\u001b[0m\r\n",
      "\u001b[?25hINFO: This is taking longer than usual. You might need to provide the dependency resolver with stricter constraints to reduce runtime. See https://pip.pypa.io/warnings/backtracking for guidance. If you want to abort this run, press Ctrl + C.\r\n",
      "  Downloading notebook-6.4.6-py3-none-any.whl (9.9 MB)\r\n",
      "\u001b[2K     \u001b[90m━━━━━━━━━━━━━━━━━━━━━━━━━━━━━━━━━━━━━━━━\u001b[0m \u001b[32m9.9/9.9 MB\u001b[0m \u001b[31m72.4 MB/s\u001b[0m eta \u001b[36m0:00:00\u001b[0m\r\n",
      "\u001b[?25h  Downloading notebook-6.4.5-py3-none-any.whl (9.9 MB)\r\n",
      "\u001b[2K     \u001b[90m━━━━━━━━━━━━━━━━━━━━━━━━━━━━━━━━━━━━━━━━\u001b[0m \u001b[32m9.9/9.9 MB\u001b[0m \u001b[31m95.4 MB/s\u001b[0m eta \u001b[36m0:00:00\u001b[0m\r\n",
      "\u001b[?25hRequirement already satisfied: ipykernel in /opt/conda/lib/python3.10/site-packages (from notebook<7->nbclassic~=0.2->jupyterlab==3.0.7->colabcode) (6.23.3)\r\n",
      "Requirement already satisfied: ptyprocess>=0.5 in /opt/conda/lib/python3.10/site-packages (from pexpect>4.3->ipython->jupyterlab==3.0.7->colabcode) (0.7.0)\r\n",
      "Requirement already satisfied: wcwidth in /opt/conda/lib/python3.10/site-packages (from prompt-toolkit!=3.0.37,<3.1.0,>=3.0.30->ipython->jupyterlab==3.0.7->colabcode) (0.2.6)\r\n",
      "Requirement already satisfied: charset-normalizer<4,>=2 in /opt/conda/lib/python3.10/site-packages (from requests>=2.28->jupyterlab-server~=2.0->jupyterlab==3.0.7->colabcode) (3.1.0)\r\n",
      "Requirement already satisfied: urllib3<3,>=1.21.1 in /opt/conda/lib/python3.10/site-packages (from requests>=2.28->jupyterlab-server~=2.0->jupyterlab==3.0.7->colabcode) (1.26.15)\r\n",
      "Requirement already satisfied: certifi>=2017.4.17 in /opt/conda/lib/python3.10/site-packages (from requests>=2.28->jupyterlab-server~=2.0->jupyterlab==3.0.7->colabcode) (2023.7.22)\r\n",
      "Requirement already satisfied: argon2-cffi-bindings in /opt/conda/lib/python3.10/site-packages (from argon2-cffi->jupyter-server~=1.2->jupyterlab==3.0.7->colabcode) (21.2.0)\r\n",
      "Requirement already satisfied: executing>=1.2.0 in /opt/conda/lib/python3.10/site-packages (from stack-data->ipython->jupyterlab==3.0.7->colabcode) (1.2.0)\r\n",
      "Requirement already satisfied: asttokens>=2.1.0 in /opt/conda/lib/python3.10/site-packages (from stack-data->ipython->jupyterlab==3.0.7->colabcode) (2.2.1)\r\n",
      "Requirement already satisfied: pure-eval in /opt/conda/lib/python3.10/site-packages (from stack-data->ipython->jupyterlab==3.0.7->colabcode) (0.2.2)\r\n",
      "Requirement already satisfied: six in /opt/conda/lib/python3.10/site-packages (from asttokens>=2.1.0->stack-data->ipython->jupyterlab==3.0.7->colabcode) (1.16.0)\r\n",
      "Requirement already satisfied: cffi>=1.0.1 in /opt/conda/lib/python3.10/site-packages (from argon2-cffi-bindings->argon2-cffi->jupyter-server~=1.2->jupyterlab==3.0.7->colabcode) (1.15.1)\r\n",
      "Requirement already satisfied: soupsieve>1.2 in /opt/conda/lib/python3.10/site-packages (from beautifulsoup4->nbconvert>=6.4.4->jupyter-server~=1.2->jupyterlab==3.0.7->colabcode) (2.3.2.post1)\r\n",
      "Requirement already satisfied: webencodings in /opt/conda/lib/python3.10/site-packages (from bleach->nbconvert>=6.4.4->jupyter-server~=1.2->jupyterlab==3.0.7->colabcode) (0.5.1)\r\n",
      "Requirement already satisfied: comm>=0.1.1 in /opt/conda/lib/python3.10/site-packages (from ipykernel->notebook<7->nbclassic~=0.2->jupyterlab==3.0.7->colabcode) (0.1.3)\r\n",
      "Requirement already satisfied: debugpy>=1.6.5 in /opt/conda/lib/python3.10/site-packages (from ipykernel->notebook<7->nbclassic~=0.2->jupyterlab==3.0.7->colabcode) (1.6.7)\r\n",
      "Requirement already satisfied: psutil in /opt/conda/lib/python3.10/site-packages (from ipykernel->notebook<7->nbclassic~=0.2->jupyterlab==3.0.7->colabcode) (5.9.3)\r\n",
      "Requirement already satisfied: pycparser in /opt/conda/lib/python3.10/site-packages (from cffi>=1.0.1->argon2-cffi-bindings->argon2-cffi->jupyter-server~=1.2->jupyterlab==3.0.7->colabcode) (2.21)\r\n",
      "Installing collected packages: pyngrok, nest-asyncio, click, uvicorn, jupyter-client, notebook, jupyter-server, nbclassic, jupyterlab, colabcode\r\n",
      "  Attempting uninstall: nest-asyncio\r\n",
      "    Found existing installation: nest-asyncio 1.5.6\r\n",
      "    Uninstalling nest-asyncio-1.5.6:\r\n",
      "      Successfully uninstalled nest-asyncio-1.5.6\r\n",
      "  Attempting uninstall: click\r\n",
      "    Found existing installation: click 8.1.7\r\n",
      "    Uninstalling click-8.1.7:\r\n",
      "      Successfully uninstalled click-8.1.7\r\n",
      "  Attempting uninstall: uvicorn\r\n",
      "    Found existing installation: uvicorn 0.22.0\r\n",
      "    Uninstalling uvicorn-0.22.0:\r\n",
      "      Successfully uninstalled uvicorn-0.22.0\r\n",
      "  Attempting uninstall: jupyter-client\r\n",
      "    Found existing installation: jupyter_client 7.4.9\r\n",
      "    Uninstalling jupyter_client-7.4.9:\r\n",
      "      Successfully uninstalled jupyter_client-7.4.9\r\n",
      "  Attempting uninstall: notebook\r\n",
      "    Found existing installation: notebook 6.5.4\r\n",
      "    Uninstalling notebook-6.5.4:\r\n",
      "      Successfully uninstalled notebook-6.5.4\r\n",
      "  Attempting uninstall: jupyter-server\r\n",
      "    Found existing installation: jupyter_server 2.6.0\r\n",
      "    Uninstalling jupyter_server-2.6.0:\r\n",
      "      Successfully uninstalled jupyter_server-2.6.0\r\n",
      "  Attempting uninstall: nbclassic\r\n",
      "    Found existing installation: nbclassic 1.0.0\r\n",
      "    Uninstalling nbclassic-1.0.0:\r\n",
      "      Successfully uninstalled nbclassic-1.0.0\r\n",
      "  Attempting uninstall: jupyterlab\r\n",
      "    Found existing installation: jupyterlab 3.6.5\r\n",
      "    Uninstalling jupyterlab-3.6.5:\r\n",
      "      Successfully uninstalled jupyterlab-3.6.5\r\n",
      "\u001b[31mERROR: pip's dependency resolver does not currently take into account all the packages that are installed. This behaviour is the source of the following dependency conflicts.\r\n",
      "fiona 1.9.4.post1 requires click~=8.0, but you have click 7.1.2 which is incompatible.\r\n",
      "beatrix-jupyterlab 2023.621.222118 requires jupyterlab~=3.4, but you have jupyterlab 3.0.7 which is incompatible.\r\n",
      "dask 2023.9.0 requires click>=8.0, but you have click 7.1.2 which is incompatible.\r\n",
      "distributed 2023.9.0 requires click>=8.0, but you have click 7.1.2 which is incompatible.\r\n",
      "fitter 1.6.0 requires click<9.0.0,>=8.1.6, but you have click 7.1.2 which is incompatible.\r\n",
      "flask 2.3.3 requires click>=8.1.3, but you have click 7.1.2 which is incompatible.\r\n",
      "jupyterlab-lsp 4.2.0 requires jupyter-lsp>=2.0.0, but you have jupyter-lsp 1.5.1 which is incompatible.\r\n",
      "jupyterlab-lsp 4.2.0 requires jupyterlab<4.0.0a0,>=3.6.0, but you have jupyterlab 3.0.7 which is incompatible.\r\n",
      "kfp 2.0.1 requires click<9,>=8.0.0, but you have click 7.1.2 which is incompatible.\r\n",
      "kfp 2.0.1 requires google-cloud-storage<3,>=2.2.1, but you have google-cloud-storage 1.44.0 which is incompatible.\r\n",
      "momepy 0.6.0 requires shapely>=2, but you have shapely 1.8.5.post1 which is incompatible.\u001b[0m\u001b[31m\r\n",
      "\u001b[0mSuccessfully installed click-7.1.2 colabcode-0.3.0 jupyter-client-8.3.0 jupyter-server-1.24.0 jupyterlab-3.0.7 nbclassic-0.3.7 nest-asyncio-1.4.3 notebook-6.4.5 pyngrok-7.1.0 uvicorn-0.13.1\r\n",
      "Requirement already satisfied: fastapi in /opt/conda/lib/python3.10/site-packages (0.98.0)\r\n",
      "Requirement already satisfied: pydantic!=1.8,!=1.8.1,<2.0.0,>=1.7.4 in /opt/conda/lib/python3.10/site-packages (from fastapi) (1.10.9)\r\n",
      "Requirement already satisfied: starlette<0.28.0,>=0.27.0 in /opt/conda/lib/python3.10/site-packages (from fastapi) (0.27.0)\r\n",
      "Requirement already satisfied: typing-extensions>=4.2.0 in /opt/conda/lib/python3.10/site-packages (from pydantic!=1.8,!=1.8.1,<2.0.0,>=1.7.4->fastapi) (4.6.3)\r\n",
      "Requirement already satisfied: anyio<5,>=3.4.0 in /opt/conda/lib/python3.10/site-packages (from starlette<0.28.0,>=0.27.0->fastapi) (3.7.0)\r\n",
      "Requirement already satisfied: idna>=2.8 in /opt/conda/lib/python3.10/site-packages (from anyio<5,>=3.4.0->starlette<0.28.0,>=0.27.0->fastapi) (3.4)\r\n",
      "Requirement already satisfied: sniffio>=1.1 in /opt/conda/lib/python3.10/site-packages (from anyio<5,>=3.4.0->starlette<0.28.0,>=0.27.0->fastapi) (1.3.0)\r\n",
      "Requirement already satisfied: exceptiongroup in /opt/conda/lib/python3.10/site-packages (from anyio<5,>=3.4.0->starlette<0.28.0,>=0.27.0->fastapi) (1.1.1)\r\n"
     ]
    }
   ],
   "source": [
    "\n",
    "!pip install colabcode\n",
    "!pip install fastapi"
   ]
  },
  {
   "cell_type": "code",
   "execution_count": 4,
   "id": "9dd30c85",
   "metadata": {
    "execution": {
     "iopub.execute_input": "2024-02-03T06:45:09.309968Z",
     "iopub.status.busy": "2024-02-03T06:45:09.309412Z",
     "iopub.status.idle": "2024-02-03T06:45:09.793141Z",
     "shell.execute_reply": "2024-02-03T06:45:09.791804Z"
    },
    "papermill": {
     "duration": 0.501956,
     "end_time": "2024-02-03T06:45:09.795565",
     "exception": false,
     "start_time": "2024-02-03T06:45:09.293609",
     "status": "completed"
    },
    "tags": []
   },
   "outputs": [],
   "source": [
    "from colabcode import ColabCode\n",
    "from fastapi import FastAPI"
   ]
  },
  {
   "cell_type": "code",
   "execution_count": null,
   "id": "180b7cf2",
   "metadata": {
    "papermill": {
     "duration": 0.016528,
     "end_time": "2024-02-03T06:45:09.826413",
     "exception": false,
     "start_time": "2024-02-03T06:45:09.809885",
     "status": "completed"
    },
    "tags": []
   },
   "outputs": [],
   "source": []
  },
  {
   "cell_type": "code",
   "execution_count": null,
   "id": "b5849ae5",
   "metadata": {
    "papermill": {
     "duration": 0.015438,
     "end_time": "2024-02-03T06:45:09.858360",
     "exception": false,
     "start_time": "2024-02-03T06:45:09.842922",
     "status": "completed"
    },
    "tags": []
   },
   "outputs": [],
   "source": []
  },
  {
   "cell_type": "markdown",
   "id": "708296a2",
   "metadata": {
    "papermill": {
     "duration": 0.015525,
     "end_time": "2024-02-03T06:45:09.888727",
     "exception": false,
     "start_time": "2024-02-03T06:45:09.873202",
     "status": "completed"
    },
    "tags": []
   },
   "source": [
    "**TODO**:\n",
    "* Lets save the model with hdf5 (h5)\n",
    "* Lets create a FAST API that will allow our model to interact with the outside world by receiving input data, processing it through the model, and returning predictions. FLASK is simple but we will be using FASTAPI as it can be easly deployed with AWS.\n",
    "* Integrate the ML model and API \n",
    "\n"
   ]
  },
  {
   "cell_type": "markdown",
   "id": "b10f4f19",
   "metadata": {
    "papermill": {
     "duration": 0.014697,
     "end_time": "2024-02-03T06:45:09.918360",
     "exception": false,
     "start_time": "2024-02-03T06:45:09.903663",
     "status": "completed"
    },
    "tags": []
   },
   "source": [
    "**References**:\n",
    "\n",
    "* Dataset : https://www.kaggle.com/datasets/mlg-ulb/creditcardfraud\n",
    "* Reinforcement learning paper : https://arxiv.org/pdf/2112.04236.pdf \n",
    "* Ref for auto encoders : https://www.kaggle.com/code/robinteuwens/anomaly-detection-with-auto-encoders "
   ]
  },
  {
   "cell_type": "code",
   "execution_count": 5,
   "id": "75aef5d0",
   "metadata": {
    "execution": {
     "iopub.execute_input": "2024-02-03T06:45:09.948976Z",
     "iopub.status.busy": "2024-02-03T06:45:09.948493Z",
     "iopub.status.idle": "2024-02-03T06:45:20.434490Z",
     "shell.execute_reply": "2024-02-03T06:45:20.432914Z"
    },
    "papermill": {
     "duration": 10.504332,
     "end_time": "2024-02-03T06:45:20.437110",
     "exception": false,
     "start_time": "2024-02-03T06:45:09.932778",
     "status": "completed"
    },
    "tags": []
   },
   "outputs": [],
   "source": [
    "import numpy as np\n",
    "import pandas as pd\n",
    "import os\n",
    "from sklearn.model_selection import train_test_split\n",
    "import tensorflow as tf\n",
    "from tensorflow.keras.layers import Input, Dense\n",
    "from tensorflow.keras.models import Model\n",
    "from sklearn.metrics import mean_squared_error, accuracy_score\n",
    "from keras import regularizers\n",
    "from sklearn.preprocessing import StandardScaler\n",
    "import matplotlib.pyplot as plt\n",
    "from sklearn.metrics import confusion_matrix,recall_score"
   ]
  },
  {
   "cell_type": "code",
   "execution_count": 6,
   "id": "d05dba29",
   "metadata": {
    "execution": {
     "iopub.execute_input": "2024-02-03T06:45:20.467428Z",
     "iopub.status.busy": "2024-02-03T06:45:20.466127Z",
     "iopub.status.idle": "2024-02-03T06:45:20.479747Z",
     "shell.execute_reply": "2024-02-03T06:45:20.478760Z"
    },
    "papermill": {
     "duration": 0.030736,
     "end_time": "2024-02-03T06:45:20.482010",
     "exception": false,
     "start_time": "2024-02-03T06:45:20.451274",
     "status": "completed"
    },
    "tags": []
   },
   "outputs": [
    {
     "name": "stdout",
     "output_type": "stream",
     "text": [
      "/kaggle/input/credit-card-fraud-detection-dataset-2023/creditcard_2023.csv\n"
     ]
    }
   ],
   "source": [
    "  for dirname, _, filenames in os.walk('/kaggle/input'):\n",
    "    for filename in filenames:\n",
    "        print(os.path.join(dirname, filename))"
   ]
  },
  {
   "cell_type": "code",
   "execution_count": 7,
   "id": "ba3b765d",
   "metadata": {
    "execution": {
     "iopub.execute_input": "2024-02-03T06:45:20.513659Z",
     "iopub.status.busy": "2024-02-03T06:45:20.512993Z",
     "iopub.status.idle": "2024-02-03T06:45:27.911242Z",
     "shell.execute_reply": "2024-02-03T06:45:27.909895Z"
    },
    "papermill": {
     "duration": 7.416097,
     "end_time": "2024-02-03T06:45:27.913363",
     "exception": false,
     "start_time": "2024-02-03T06:45:20.497266",
     "status": "completed"
    },
    "tags": []
   },
   "outputs": [
    {
     "name": "stdout",
     "output_type": "stream",
     "text": [
      "shape of the data:  (568630, 31)\n"
     ]
    }
   ],
   "source": [
    "data=pd.read_csv('/kaggle/input/credit-card-fraud-detection-dataset-2023/creditcard_2023.csv')\n",
    "print(\"shape of the data: \",data.shape)"
   ]
  },
  {
   "cell_type": "code",
   "execution_count": 8,
   "id": "6e666b59",
   "metadata": {
    "execution": {
     "iopub.execute_input": "2024-02-03T06:45:27.944790Z",
     "iopub.status.busy": "2024-02-03T06:45:27.944432Z",
     "iopub.status.idle": "2024-02-03T06:45:27.968298Z",
     "shell.execute_reply": "2024-02-03T06:45:27.967415Z"
    },
    "papermill": {
     "duration": 0.042626,
     "end_time": "2024-02-03T06:45:27.970365",
     "exception": false,
     "start_time": "2024-02-03T06:45:27.927739",
     "status": "completed"
    },
    "tags": []
   },
   "outputs": [
    {
     "name": "stdout",
     "output_type": "stream",
     "text": [
      "   id        V1        V2        V3        V4        V5        V6        V7  \\\n",
      "0   0 -0.260648 -0.469648  2.496266 -0.083724  0.129681  0.732898  0.519014   \n",
      "1   1  0.985100 -0.356045  0.558056 -0.429654  0.277140  0.428605  0.406466   \n",
      "2   2 -0.260272 -0.949385  1.728538 -0.457986  0.074062  1.419481  0.743511   \n",
      "3   3 -0.152152 -0.508959  1.746840 -1.090178  0.249486  1.143312  0.518269   \n",
      "4   4 -0.206820 -0.165280  1.527053 -0.448293  0.106125  0.530549  0.658849   \n",
      "\n",
      "         V8        V9  ...       V21       V22       V23       V24       V25  \\\n",
      "0 -0.130006  0.727159  ... -0.110552  0.217606 -0.134794  0.165959  0.126280   \n",
      "1 -0.133118  0.347452  ... -0.194936 -0.605761  0.079469 -0.577395  0.190090   \n",
      "2 -0.095576 -0.261297  ... -0.005020  0.702906  0.945045 -1.154666 -0.605564   \n",
      "3 -0.065130 -0.205698  ... -0.146927 -0.038212 -0.214048 -1.893131  1.003963   \n",
      "4 -0.212660  1.049921  ... -0.106984  0.729727 -0.161666  0.312561 -0.414116   \n",
      "\n",
      "        V26       V27       V28    Amount  Class  \n",
      "0 -0.434824 -0.081230 -0.151045  17982.10      0  \n",
      "1  0.296503 -0.248052 -0.064512   6531.37      0  \n",
      "2 -0.312895 -0.300258 -0.244718   2513.54      0  \n",
      "3 -0.515950 -0.165316  0.048424   5384.44      0  \n",
      "4  1.071126  0.023712  0.419117  14278.97      0  \n",
      "\n",
      "[5 rows x 31 columns]\n",
      "data.shape (568630, 31)\n"
     ]
    }
   ],
   "source": [
    "headlist =[]\n",
    "print(data.head())\n",
    "headlist = data.columns.tolist()\n",
    "print('data.shape', data.shape)\n",
    "# headlist"
   ]
  },
  {
   "cell_type": "code",
   "execution_count": 9,
   "id": "ba240b80",
   "metadata": {
    "execution": {
     "iopub.execute_input": "2024-02-03T06:45:28.001659Z",
     "iopub.status.busy": "2024-02-03T06:45:28.001298Z",
     "iopub.status.idle": "2024-02-03T06:45:28.021424Z",
     "shell.execute_reply": "2024-02-03T06:45:28.019688Z"
    },
    "papermill": {
     "duration": 0.038772,
     "end_time": "2024-02-03T06:45:28.024091",
     "exception": false,
     "start_time": "2024-02-03T06:45:27.985319",
     "status": "completed"
    },
    "tags": []
   },
   "outputs": [
    {
     "name": "stdout",
     "output_type": "stream",
     "text": [
      "284315\n",
      "284315\n",
      "[ True False]\n"
     ]
    }
   ],
   "source": [
    "trues = (data['Class'] == 1).sum()\n",
    "print(trues)\n",
    "falses = (data['Class'] == 0).sum()\n",
    "print(falses)\n",
    "unique_count = (data['Class'] == 0).unique()\n",
    "print(unique_count)\n",
    "\n",
    "# Plotting\n",
    "# data.plot(kind='bar')  # You can change 'line' to 'bar', 'hist', 'box', etc.\n",
    "# plt.show()"
   ]
  },
  {
   "cell_type": "markdown",
   "id": "916b1e86",
   "metadata": {
    "papermill": {
     "duration": 0.014979,
     "end_time": "2024-02-03T06:45:28.110773",
     "exception": false,
     "start_time": "2024-02-03T06:45:28.095794",
     "status": "completed"
    },
    "tags": []
   },
   "source": [
    "> Test: shuffle the data and run the model. check the diff. might reduce bias from the pattern."
   ]
  },
  {
   "cell_type": "code",
   "execution_count": 10,
   "id": "dfd5be45",
   "metadata": {
    "execution": {
     "iopub.execute_input": "2024-02-03T06:45:28.144878Z",
     "iopub.status.busy": "2024-02-03T06:45:28.144533Z",
     "iopub.status.idle": "2024-02-03T06:45:28.456372Z",
     "shell.execute_reply": "2024-02-03T06:45:28.455409Z"
    },
    "papermill": {
     "duration": 0.330878,
     "end_time": "2024-02-03T06:45:28.458690",
     "exception": false,
     "start_time": "2024-02-03T06:45:28.127812",
     "status": "completed"
    },
    "tags": []
   },
   "outputs": [],
   "source": [
    "x = data.drop(['Class', 'id'], axis=1)\n",
    "y = data['Class']\n",
    "# print(x,y)\n",
    "\n",
    "x_train, x_test, y_train, y_test = train_test_split(x, y, test_size=0.2, stratify=y, random_state=42)"
   ]
  },
  {
   "cell_type": "code",
   "execution_count": 11,
   "id": "71b69717",
   "metadata": {
    "execution": {
     "iopub.execute_input": "2024-02-03T06:45:28.490918Z",
     "iopub.status.busy": "2024-02-03T06:45:28.490530Z",
     "iopub.status.idle": "2024-02-03T06:45:28.496527Z",
     "shell.execute_reply": "2024-02-03T06:45:28.495110Z"
    },
    "papermill": {
     "duration": 0.026721,
     "end_time": "2024-02-03T06:45:28.500620",
     "exception": false,
     "start_time": "2024-02-03T06:45:28.473899",
     "status": "completed"
    },
    "tags": []
   },
   "outputs": [
    {
     "name": "stdout",
     "output_type": "stream",
     "text": [
      "(454904, 29) (113726, 29) (454904,) (113726,)\n"
     ]
    }
   ],
   "source": [
    "print(x_train.shape, x_test.shape, y_train.shape, y_test.shape)"
   ]
  },
  {
   "cell_type": "code",
   "execution_count": 12,
   "id": "7312637f",
   "metadata": {
    "execution": {
     "iopub.execute_input": "2024-02-03T06:45:28.533537Z",
     "iopub.status.busy": "2024-02-03T06:45:28.533159Z",
     "iopub.status.idle": "2024-02-03T06:45:28.550506Z",
     "shell.execute_reply": "2024-02-03T06:45:28.548975Z"
    },
    "papermill": {
     "duration": 0.036978,
     "end_time": "2024-02-03T06:45:28.553138",
     "exception": false,
     "start_time": "2024-02-03T06:45:28.516160",
     "status": "completed"
    },
    "tags": []
   },
   "outputs": [],
   "source": [
    "scaler = StandardScaler()\n",
    "x_train['Amount'] = scaler.fit_transform(x_train[['Amount']])\n",
    "x_test['Amount'] = scaler.transform(x_test[['Amount']])"
   ]
  },
  {
   "cell_type": "code",
   "execution_count": 13,
   "id": "3e4ce183",
   "metadata": {
    "execution": {
     "iopub.execute_input": "2024-02-03T06:45:28.586239Z",
     "iopub.status.busy": "2024-02-03T06:45:28.585784Z",
     "iopub.status.idle": "2024-02-03T06:45:28.591760Z",
     "shell.execute_reply": "2024-02-03T06:45:28.590347Z"
    },
    "papermill": {
     "duration": 0.025906,
     "end_time": "2024-02-03T06:45:28.594673",
     "exception": false,
     "start_time": "2024-02-03T06:45:28.568767",
     "status": "completed"
    },
    "tags": []
   },
   "outputs": [],
   "source": [
    "# input_dim = x_train.shape[1]\n",
    "\n",
    "# # Define the layers\n",
    "# input_layer = Input(shape=(input_dim,))\n",
    "# encoder = Dense(14, activation=\"tanh\")(input_layer)\n",
    "# encoder = Dense(7, activation=\"relu\")(encoder)\n",
    "# decoder = Dense(7, activation='tanh')(encoder)\n",
    "# decoder = Dense(input_dim, activation='relu')(decoder)\n",
    "\n",
    "# autoencoder = Model(inputs=input_layer, outputs=decoder)\n",
    "\n",
    "# # Training accuracy: 0.7691007333415402 \n",
    "# # Test accuracy: 0.7688655188787085"
   ]
  },
  {
   "cell_type": "code",
   "execution_count": 14,
   "id": "88ee9bec",
   "metadata": {
    "execution": {
     "iopub.execute_input": "2024-02-03T06:45:28.627726Z",
     "iopub.status.busy": "2024-02-03T06:45:28.627375Z",
     "iopub.status.idle": "2024-02-03T06:45:28.843859Z",
     "shell.execute_reply": "2024-02-03T06:45:28.842378Z"
    },
    "papermill": {
     "duration": 0.236155,
     "end_time": "2024-02-03T06:45:28.846283",
     "exception": false,
     "start_time": "2024-02-03T06:45:28.610128",
     "status": "completed"
    },
    "tags": []
   },
   "outputs": [],
   "source": [
    "input_dim = x_train.shape[1]\n",
    "\n",
    "input_layer = Input(shape=(input_dim,))\n",
    "\n",
    "encoder = Dense(14, activation=\"tanh\")(input_layer)\n",
    "encoder = Dense(10, activation=\"relu\")(encoder)\n",
    "encoder = Dense(7, activation=\"relu\")(encoder)\n",
    "\n",
    "decoder = Dense(7, activation='tanh')(encoder)\n",
    "decoder = Dense(10, activation='relu')(decoder)\n",
    "decoder = Dense(input_dim, activation='relu')(decoder)\n",
    "\n",
    "autoencoder = Model(inputs=input_layer, outputs=decoder)\n",
    "\n",
    "# Training accuracy: 0.784978808715685\n",
    "# Test accuracy: 0.7841126919086224"
   ]
  },
  {
   "cell_type": "code",
   "execution_count": 15,
   "id": "ce7cd565",
   "metadata": {
    "execution": {
     "iopub.execute_input": "2024-02-03T06:45:28.879093Z",
     "iopub.status.busy": "2024-02-03T06:45:28.878693Z",
     "iopub.status.idle": "2024-02-03T06:45:28.882532Z",
     "shell.execute_reply": "2024-02-03T06:45:28.881664Z"
    },
    "jupyter": {
     "source_hidden": true
    },
    "papermill": {
     "duration": 0.022521,
     "end_time": "2024-02-03T06:45:28.884315",
     "exception": false,
     "start_time": "2024-02-03T06:45:28.861794",
     "status": "completed"
    },
    "tags": []
   },
   "outputs": [],
   "source": [
    "# input_dim = x_train.shape[1]\n",
    "\n",
    "# input_layer = Input(shape=(input_dim,))\n",
    "\n",
    "# print(input_dim)\n",
    "# # print(input_layer)"
   ]
  },
  {
   "cell_type": "code",
   "execution_count": 16,
   "id": "f1b48f3d",
   "metadata": {
    "execution": {
     "iopub.execute_input": "2024-02-03T06:45:28.918124Z",
     "iopub.status.busy": "2024-02-03T06:45:28.917532Z",
     "iopub.status.idle": "2024-02-03T06:45:28.921829Z",
     "shell.execute_reply": "2024-02-03T06:45:28.921225Z"
    },
    "papermill": {
     "duration": 0.023716,
     "end_time": "2024-02-03T06:45:28.923591",
     "exception": false,
     "start_time": "2024-02-03T06:45:28.899875",
     "status": "completed"
    },
    "tags": []
   },
   "outputs": [],
   "source": [
    "# input_dim = x_train.shape[1]\n",
    "\n",
    "# input_layer = Input(shape=(input_dim,))\n",
    "\n",
    "# encoded = Dense(100, activation= 'tanh', activity_regularizer=regularizers.l1(10e-5))(input_layer)\n",
    "# encoded = Dense(50, activation='tanh', activity_regularizer=regularizers.l1(10e-5))(encoded)\n",
    "# encoded = Dense(25, activation='tanh', activity_regularizer=regularizers.l1(10e-5))(encoded)\n",
    "# encoded = Dense(12, activation = 'tanh', activity_regularizer=regularizers.l1(10e-5))(encoded)\n",
    "# encoded = Dense(6, activation='relu')(encoded)\n",
    "\n",
    "# # Decoder network\n",
    "# decoded = Dense(12, activation='tanh')(encoded)\n",
    "# decoded = Dense(25, activation='tanh')(decoded)\n",
    "# decoded = Dense(50, activation='tanh')(decoded)\n",
    "# decoded = Dense(100, activation='tanh')(decoded)\n",
    "\n",
    "# output_layer = Dense(x.shape[1], activation='relu')(decoded)\n",
    "\n",
    "# # Building a model\n",
    "# autoencoder = Model(input_layer, output_layer)\n",
    "\n",
    "# # Training accuracy: 0.8050182016425443\n",
    "# # Test accuracy: 0.8044510490125389\n",
    "# # do not remember number of epochs"
   ]
  },
  {
   "cell_type": "code",
   "execution_count": 17,
   "id": "87ac7387",
   "metadata": {
    "execution": {
     "iopub.execute_input": "2024-02-03T06:45:28.958851Z",
     "iopub.status.busy": "2024-02-03T06:45:28.958243Z",
     "iopub.status.idle": "2024-02-03T06:45:44.906635Z",
     "shell.execute_reply": "2024-02-03T06:45:44.905145Z"
    },
    "papermill": {
     "duration": 15.970417,
     "end_time": "2024-02-03T06:45:44.909582",
     "exception": false,
     "start_time": "2024-02-03T06:45:28.939165",
     "status": "completed"
    },
    "tags": []
   },
   "outputs": [
    {
     "name": "stdout",
     "output_type": "stream",
     "text": [
      "6042/6042 [==============================] - 16s 2ms/step - loss: 0.4733 - val_loss: 0.4211\n"
     ]
    },
    {
     "data": {
      "text/plain": [
       "<keras.callbacks.History at 0x7f53095c20e0>"
      ]
     },
     "execution_count": 17,
     "metadata": {},
     "output_type": "execute_result"
    }
   ],
   "source": [
    "x_train_nonfraud = x_train[y_train == 0]\n",
    "\n",
    "autoencoder.compile(optimizer='adam', loss='mean_squared_error') # can be binary cross\n",
    "autoencoder.fit(x_train_nonfraud, x_train_nonfraud, epochs=1, batch_size=32, shuffle=True, validation_split=0.15)"
   ]
  },
  {
   "cell_type": "code",
   "execution_count": 18,
   "id": "7ae243be",
   "metadata": {
    "execution": {
     "iopub.execute_input": "2024-02-03T06:45:44.970696Z",
     "iopub.status.busy": "2024-02-03T06:45:44.970309Z",
     "iopub.status.idle": "2024-02-03T06:45:45.022955Z",
     "shell.execute_reply": "2024-02-03T06:45:45.021636Z"
    },
    "papermill": {
     "duration": 0.086923,
     "end_time": "2024-02-03T06:45:45.025660",
     "exception": false,
     "start_time": "2024-02-03T06:45:44.938737",
     "status": "completed"
    },
    "tags": []
   },
   "outputs": [],
   "source": [
    "autoencoder.save('autoencoder_model.h5')\n",
    "autoencoder.save_weights('autoencoder_weights.h5')\n",
    "\n",
    "# autoencoder.load_weights('autoencoder_weights.h5')"
   ]
  },
  {
   "cell_type": "code",
   "execution_count": 19,
   "id": "70b4abd8",
   "metadata": {
    "execution": {
     "iopub.execute_input": "2024-02-03T06:45:45.085192Z",
     "iopub.status.busy": "2024-02-03T06:45:45.084257Z",
     "iopub.status.idle": "2024-02-03T06:46:19.500143Z",
     "shell.execute_reply": "2024-02-03T06:46:19.497690Z"
    },
    "papermill": {
     "duration": 34.449469,
     "end_time": "2024-02-03T06:46:19.503757",
     "exception": false,
     "start_time": "2024-02-03T06:45:45.054288",
     "status": "completed"
    },
    "tags": []
   },
   "outputs": [
    {
     "name": "stdout",
     "output_type": "stream",
     "text": [
      "14216/14216 [==============================] - 21s 1ms/step\n",
      "3554/3554 [==============================] - 5s 1ms/step\n",
      "Training accuracy: 0.731158662047377\n",
      "Test accuracy: 0.7295781087877882\n",
      "Train confusionn matrix :  [[216079  11373]\n",
      " [110924 116528]]\n",
      "Test confusion matrix :  [[53900  2963]\n",
      " [27791 29072]]\n"
     ]
    }
   ],
   "source": [
    "# 1. Calculate the Mean Squared Error (MSE)\n",
    "train_predictions = autoencoder.predict(x_train)\n",
    "train_mse = np.mean(np.power(x_train - train_predictions, 2), axis=1)\n",
    "\n",
    "test_predictions = autoencoder.predict(x_test)\n",
    "test_mse = np.mean(np.power(x_test - test_predictions, 2), axis=1)\n",
    "\n",
    "# 2. Determine a Threshold\n",
    "threshold = np.percentile(train_mse[y_train == 0], 95)\n",
    "\n",
    "# 3. Evaluate Accuracy\n",
    "train_pred_labels = [1 if mse > threshold else 0 for mse in train_mse]\n",
    "test_pred_labels = [1 if mse > threshold else 0 for mse in test_mse]\n",
    "\n",
    "train_accuracy = accuracy_score(y_train, train_pred_labels)\n",
    "test_accuracy = accuracy_score(y_test, test_pred_labels)\n",
    "\n",
    "print(\"Training accuracy:\", train_accuracy)\n",
    "print(\"Test accuracy:\", test_accuracy)\n",
    "\n",
    "# confusion matrix and recall \n",
    "\n",
    "# confusion matrix for training data\n",
    "train_cm = confusion_matrix(y_train, train_pred_labels)\n",
    "\n",
    "# confusion matrix for testing data\n",
    "test_cm = confusion_matrix(y_test, test_pred_labels)\n",
    "\n",
    "print(\"Train confusionn matrix : \", train_cm)\n",
    "print(\"Test confusion matrix : \", test_cm)\n",
    "#print(f\"Recall: {recall:.2f}\")"
   ]
  },
  {
   "cell_type": "code",
   "execution_count": 20,
   "id": "f95866cf",
   "metadata": {
    "execution": {
     "iopub.execute_input": "2024-02-03T06:46:19.631242Z",
     "iopub.status.busy": "2024-02-03T06:46:19.630782Z",
     "iopub.status.idle": "2024-02-03T06:46:30.020235Z",
     "shell.execute_reply": "2024-02-03T06:46:30.017812Z"
    },
    "papermill": {
     "duration": 10.455172,
     "end_time": "2024-02-03T06:46:30.023929",
     "exception": false,
     "start_time": "2024-02-03T06:46:19.568757",
     "status": "completed"
    },
    "tags": []
   },
   "outputs": [
    {
     "name": "stdout",
     "output_type": "stream",
     "text": [
      "3554/3554 [==============================] - 5s 1ms/step\n",
      "175.9642100544872\n"
     ]
    }
   ],
   "source": [
    "x_test_predictions = autoencoder.predict(x_test)\n",
    "mse = np.mean(np.power(x_test - x_test_predictions, 2), axis=1)\n",
    "print(max(mse))"
   ]
  },
  {
   "cell_type": "code",
   "execution_count": 21,
   "id": "fd754913",
   "metadata": {
    "execution": {
     "iopub.execute_input": "2024-02-03T06:46:30.158897Z",
     "iopub.status.busy": "2024-02-03T06:46:30.158358Z",
     "iopub.status.idle": "2024-02-03T06:46:30.169810Z",
     "shell.execute_reply": "2024-02-03T06:46:30.168425Z"
    },
    "jupyter": {
     "source_hidden": true
    },
    "papermill": {
     "duration": 0.081904,
     "end_time": "2024-02-03T06:46:30.172156",
     "exception": false,
     "start_time": "2024-02-03T06:46:30.090252",
     "status": "completed"
    },
    "tags": []
   },
   "outputs": [],
   "source": [
    "import logging\n",
    "import io\n",
    "from datetime import datetime\n",
    "\n",
    "def setup_logging(timestamp):\n",
    "    \"\"\"Sets up the logging environment.\"\"\"\n",
    "    log_filename = f'logs/model_run_{timestamp}.log'\n",
    "    \n",
    "    # Ensure the logs directory exists\n",
    "    if not os.path.exists('logs'):\n",
    "        os.makedirs('logs')\n",
    "    \n",
    "    # Configure logging\n",
    "    logger = logging.getLogger(__name__)\n",
    "    logger.setLevel(logging.INFO)\n",
    "    \n",
    "    # Check if logger has handlers already (important in Jupyter environments)\n",
    "    if not logger.handlers:\n",
    "        file_handler = logging.FileHandler(log_filename)\n",
    "        file_handler.setLevel(logging.INFO)\n",
    "        formatter = logging.Formatter('%(asctime)s - %(levelname)s - %(message)s')\n",
    "        file_handler.setFormatter(formatter)\n",
    "        logger.addHandler(file_handler)\n",
    "    \n",
    "    return logger\n",
    "\n",
    "def log_model_details(timestamp, model_summary, epochs, training_accuracy, testing_accuracy):\n",
    "    \"\"\"\n",
    "    Logs the model details to the specified log file.\n",
    "    \n",
    "    :param timestamp: Timestamp for the log file\n",
    "    :param model_summary: Summary of the model architecture\n",
    "    :param epochs: Number of epochs used for training\n",
    "    :param training_accuracy: The training accuracy\n",
    "    :param testing_accuracy: The testing accuracy\n",
    "    \"\"\"\n",
    "    logger = setup_logging(timestamp)\n",
    "    \n",
    "    # Log the model summary\n",
    "    logger.info(\"Model Summary:\\n\" + model_summary)\n",
    "    \n",
    "    # Log the training details\n",
    "    logger.info(f\"Training for {epochs} epochs.\")\n",
    "    logger.info(f\"Training Accuracy: {training_accuracy}\")\n",
    "    logger.info(f\"Testing Accuracy: {testing_accuracy}\")\n",
    "    logger.info(\"***************************************\")"
   ]
  },
  {
   "cell_type": "code",
   "execution_count": 22,
   "id": "24dc6d63",
   "metadata": {
    "execution": {
     "iopub.execute_input": "2024-02-03T06:46:30.307041Z",
     "iopub.status.busy": "2024-02-03T06:46:30.306552Z",
     "iopub.status.idle": "2024-02-03T06:46:30.315468Z",
     "shell.execute_reply": "2024-02-03T06:46:30.314447Z"
    },
    "jupyter": {
     "source_hidden": true
    },
    "papermill": {
     "duration": 0.079391,
     "end_time": "2024-02-03T06:46:30.317330",
     "exception": false,
     "start_time": "2024-02-03T06:46:30.237939",
     "status": "completed"
    },
    "tags": []
   },
   "outputs": [],
   "source": [
    "stream = io.StringIO()\n",
    "autoencoder.summary(print_fn=lambda x: stream.write(x + '\\n'))\n",
    "summary_string = stream.getvalue()\n",
    "stream.close()\n",
    "\n",
    "# Define your other parameters\n",
    "timestamp = datetime.now().strftime('%Y-%m-%d_%H-%M-%S')\n",
    "epochs = 10\n",
    "training_accuracy = 0.95  # Example value\n",
    "testing_accuracy = 0.90  # Example value\n",
    "\n",
    "# Call the function to log everything\n",
    "log_model_details(timestamp, summary_string, epochs, training_accuracy, testing_accuracy)"
   ]
  },
  {
   "cell_type": "code",
   "execution_count": 23,
   "id": "1016dc85",
   "metadata": {
    "execution": {
     "iopub.execute_input": "2024-02-03T06:46:30.453550Z",
     "iopub.status.busy": "2024-02-03T06:46:30.452988Z",
     "iopub.status.idle": "2024-02-03T06:46:30.462264Z",
     "shell.execute_reply": "2024-02-03T06:46:30.460719Z"
    },
    "jupyter": {
     "source_hidden": true
    },
    "papermill": {
     "duration": 0.079944,
     "end_time": "2024-02-03T06:46:30.464598",
     "exception": false,
     "start_time": "2024-02-03T06:46:30.384654",
     "status": "completed"
    },
    "tags": []
   },
   "outputs": [
    {
     "data": {
      "text/plain": [
       "'\"\\n# Define a Policy-Based RL Environment\\nclass FraudDetectionEnv(gym.Env):\\n    def __init__(self):\\n        super(FraudDetectionEnv, self).__init__()\\n        self.action_space = gym.spaces.Discrete(n_actions)\\n        self.observation_space = gym.spaces.Box(low=0, high=1, shape=(n_features + 1,))\\n\\n    def step(self, action):\\n        # Implement the logic to handle actions and return the next state, reward, done, info\\n        pass\\n\\n    def reset(self):\\n        # Reset the environment to an initial state\\n        pass\\n\\n# Initialize the environment and the RL agent\\nenv = FraudDetectionEnv()\\nmodel = PPO(\"MlpPolicy\", env, verbose=1)\\n\\n# Train the RL agent\\nmodel.learn(total_timesteps=10000)\\n\\n# Example of using the trained autoencoder and RL agent in tandem\\ndef make_decision(transaction_data):\\n    # Use autoencoder for anomaly detection\\n    reconstructed = autoencoder.predict(transaction_data)\\n    reconstruction_error = np.mean(np.abs(transaction_data - reconstructed), axis=1)\\n\\n    # Include reconstruction error in the state for the RL agent\\n    state = np.concatenate([transaction_data, reconstruction_error[:, None]], axis=1)\\n    action = model.predict(state, deterministic=True)[0]\\n    \\n    return action\\n\\n# Example transaction data (dummy data for illustration)\\nsample_transaction = np.random.rand(1, n_features)\\n\\n# Make a decision on the transaction\\ndecision = make_decision(sample_transaction)\\nprint(\"Decision on transaction:\", decision)\\n'"
      ]
     },
     "execution_count": 23,
     "metadata": {},
     "output_type": "execute_result"
    }
   ],
   "source": [
    "\"\"\"\"\n",
    "# Define a Policy-Based RL Environment\n",
    "class FraudDetectionEnv(gym.Env):\n",
    "    def __init__(self):\n",
    "        super(FraudDetectionEnv, self).__init__()\n",
    "        self.action_space = gym.spaces.Discrete(n_actions)\n",
    "        self.observation_space = gym.spaces.Box(low=0, high=1, shape=(n_features + 1,))\n",
    "\n",
    "    def step(self, action):\n",
    "        # Implement the logic to handle actions and return the next state, reward, done, info\n",
    "        pass\n",
    "\n",
    "    def reset(self):\n",
    "        # Reset the environment to an initial state\n",
    "        pass\n",
    "\n",
    "# Initialize the environment and the RL agent\n",
    "env = FraudDetectionEnv()\n",
    "model = PPO(\"MlpPolicy\", env, verbose=1)\n",
    "\n",
    "# Train the RL agent\n",
    "model.learn(total_timesteps=10000)\n",
    "\n",
    "# Example of using the trained autoencoder and RL agent in tandem\n",
    "def make_decision(transaction_data):\n",
    "    # Use autoencoder for anomaly detection\n",
    "    reconstructed = autoencoder.predict(transaction_data)\n",
    "    reconstruction_error = np.mean(np.abs(transaction_data - reconstructed), axis=1)\n",
    "\n",
    "    # Include reconstruction error in the state for the RL agent\n",
    "    state = np.concatenate([transaction_data, reconstruction_error[:, None]], axis=1)\n",
    "    action = model.predict(state, deterministic=True)[0]\n",
    "    \n",
    "    return action\n",
    "\n",
    "# Example transaction data (dummy data for illustration)\n",
    "sample_transaction = np.random.rand(1, n_features)\n",
    "\n",
    "# Make a decision on the transaction\n",
    "decision = make_decision(sample_transaction)\n",
    "print(\"Decision on transaction:\", decision)\n",
    "\"\"\""
   ]
  }
 ],
 "metadata": {
  "kaggle": {
   "accelerator": "none",
   "dataSources": [
    {
     "datasetId": 3752264,
     "sourceId": 6492730,
     "sourceType": "datasetVersion"
    }
   ],
   "dockerImageVersionId": 30558,
   "isGpuEnabled": false,
   "isInternetEnabled": true,
   "language": "python",
   "sourceType": "notebook"
  },
  "kernelspec": {
   "display_name": "Python 3",
   "language": "python",
   "name": "python3"
  },
  "language_info": {
   "codemirror_mode": {
    "name": "ipython",
    "version": 3
   },
   "file_extension": ".py",
   "mimetype": "text/x-python",
   "name": "python",
   "nbconvert_exporter": "python",
   "pygments_lexer": "ipython3",
   "version": "3.10.12"
  },
  "papermill": {
   "default_parameters": {},
   "duration": 139.531984,
   "end_time": "2024-02-03T06:46:32.362671",
   "environment_variables": {},
   "exception": null,
   "input_path": "__notebook__.ipynb",
   "output_path": "__notebook__.ipynb",
   "parameters": {},
   "start_time": "2024-02-03T06:44:12.830687",
   "version": "2.4.0"
  }
 },
 "nbformat": 4,
 "nbformat_minor": 5
}
