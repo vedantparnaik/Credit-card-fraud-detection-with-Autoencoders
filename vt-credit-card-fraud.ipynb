{
 "cells": [
  {
   "cell_type": "code",
   "execution_count": 1,
   "id": "d03922e0",
   "metadata": {
    "execution": {
     "iopub.execute_input": "2024-02-03T05:53:31.251836Z",
     "iopub.status.busy": "2024-02-03T05:53:31.250984Z",
     "iopub.status.idle": "2024-02-03T05:53:31.256311Z",
     "shell.execute_reply": "2024-02-03T05:53:31.255583Z"
    },
    "papermill": {
     "duration": 0.017806,
     "end_time": "2024-02-03T05:53:31.258589",
     "exception": false,
     "start_time": "2024-02-03T05:53:31.240783",
     "status": "completed"
    },
    "tags": []
   },
   "outputs": [],
   "source": [
    "# # !pip uninstall jax -y\n",
    "# # !pip install jax\n",
    "# incase you get error for tf wrt jax\n",
    "# we can use this to deploy"
   ]
  },
  {
   "cell_type": "code",
   "execution_count": 2,
   "id": "9f7b2d7a",
   "metadata": {
    "execution": {
     "iopub.execute_input": "2024-02-03T05:53:31.276118Z",
     "iopub.status.busy": "2024-02-03T05:53:31.275342Z",
     "iopub.status.idle": "2024-02-03T05:53:31.279970Z",
     "shell.execute_reply": "2024-02-03T05:53:31.279165Z"
    },
    "papermill": {
     "duration": 0.01593,
     "end_time": "2024-02-03T05:53:31.282218",
     "exception": false,
     "start_time": "2024-02-03T05:53:31.266288",
     "status": "completed"
    },
    "tags": []
   },
   "outputs": [],
   "source": [
    "# !pip install stable-baselines3[extra]\n",
    "# from stable_baselines3 import PPO\n",
    "# import gym"
   ]
  },
  {
   "cell_type": "markdown",
   "id": "e8cf4a78",
   "metadata": {
    "papermill": {
     "duration": 0.00719,
     "end_time": "2024-02-03T05:53:31.296863",
     "exception": false,
     "start_time": "2024-02-03T05:53:31.289673",
     "status": "completed"
    },
    "tags": []
   },
   "source": [
    "**TODO**:\n",
    "* Lets save the model with hdf5 (h5)\n",
    "* Lets create a FAST API that will allow our model to interact with the outside world by receiving input data, processing it through the model, and returning predictions. FLASK is simple but we will be using FASTAPI as it can be easly deployed with AWS.\n",
    "* Integrate the ML model and API \n"
   ]
  },
  {
   "cell_type": "markdown",
   "id": "99998c35",
   "metadata": {
    "papermill": {
     "duration": 0.007757,
     "end_time": "2024-02-03T05:53:31.312688",
     "exception": false,
     "start_time": "2024-02-03T05:53:31.304931",
     "status": "completed"
    },
    "tags": []
   },
   "source": [
    "# **References**\n",
    "\n",
    "Dataset\n",
    "* https://www.kaggle.com/datasets/mlg-ulb/creditcardfraud\n",
    "\n",
    "Reinforcement learning paper\n",
    "* https://arxiv.org/pdf/2112.04236.pdf \n",
    "\n",
    "Ref for auto encoders\n",
    "* https://www.kaggle.com/code/robinteuwens/anomaly-detection-with-auto-encoders "
   ]
  },
  {
   "cell_type": "code",
   "execution_count": 3,
   "id": "452e6895",
   "metadata": {
    "execution": {
     "iopub.execute_input": "2024-02-03T05:53:31.331045Z",
     "iopub.status.busy": "2024-02-03T05:53:31.330220Z",
     "iopub.status.idle": "2024-02-03T05:53:41.958264Z",
     "shell.execute_reply": "2024-02-03T05:53:41.956993Z"
    },
    "papermill": {
     "duration": 10.640416,
     "end_time": "2024-02-03T05:53:41.961082",
     "exception": false,
     "start_time": "2024-02-03T05:53:31.320666",
     "status": "completed"
    },
    "tags": []
   },
   "outputs": [],
   "source": [
    "import numpy as np\n",
    "import pandas as pd\n",
    "import os\n",
    "from sklearn.model_selection import train_test_split\n",
    "import tensorflow as tf\n",
    "from tensorflow.keras.layers import Input, Dense\n",
    "from tensorflow.keras.models import Model\n",
    "from sklearn.metrics import mean_squared_error, accuracy_score\n",
    "from keras import regularizers\n",
    "from sklearn.preprocessing import StandardScaler\n",
    "import matplotlib.pyplot as plt\n",
    "from sklearn.metrics import confusion_matrix,recall_score"
   ]
  },
  {
   "cell_type": "code",
   "execution_count": 4,
   "id": "6358b552",
   "metadata": {
    "execution": {
     "iopub.execute_input": "2024-02-03T05:53:41.978193Z",
     "iopub.status.busy": "2024-02-03T05:53:41.977508Z",
     "iopub.status.idle": "2024-02-03T05:53:42.000106Z",
     "shell.execute_reply": "2024-02-03T05:53:41.999232Z"
    },
    "papermill": {
     "duration": 0.033481,
     "end_time": "2024-02-03T05:53:42.002305",
     "exception": false,
     "start_time": "2024-02-03T05:53:41.968824",
     "status": "completed"
    },
    "tags": []
   },
   "outputs": [
    {
     "name": "stdout",
     "output_type": "stream",
     "text": [
      "/kaggle/input/credit-card-fraud-detection-dataset-2023/creditcard_2023.csv\n"
     ]
    }
   ],
   "source": [
    "  for dirname, _, filenames in os.walk('/kaggle/input'):\n",
    "    for filename in filenames:\n",
    "        print(os.path.join(dirname, filename))"
   ]
  },
  {
   "cell_type": "code",
   "execution_count": 5,
   "id": "798afbeb",
   "metadata": {
    "execution": {
     "iopub.execute_input": "2024-02-03T05:53:42.020114Z",
     "iopub.status.busy": "2024-02-03T05:53:42.019387Z",
     "iopub.status.idle": "2024-02-03T05:53:51.386352Z",
     "shell.execute_reply": "2024-02-03T05:53:51.385085Z"
    },
    "papermill": {
     "duration": 9.378738,
     "end_time": "2024-02-03T05:53:51.388943",
     "exception": false,
     "start_time": "2024-02-03T05:53:42.010205",
     "status": "completed"
    },
    "tags": []
   },
   "outputs": [
    {
     "name": "stdout",
     "output_type": "stream",
     "text": [
      "shape of the data:  (568630, 31)\n"
     ]
    }
   ],
   "source": [
    "data=pd.read_csv('/kaggle/input/credit-card-fraud-detection-dataset-2023/creditcard_2023.csv')\n",
    "print(\"shape of the data: \",data.shape)"
   ]
  },
  {
   "cell_type": "code",
   "execution_count": 6,
   "id": "142c99ac",
   "metadata": {
    "execution": {
     "iopub.execute_input": "2024-02-03T05:53:51.407803Z",
     "iopub.status.busy": "2024-02-03T05:53:51.407073Z",
     "iopub.status.idle": "2024-02-03T05:53:51.434671Z",
     "shell.execute_reply": "2024-02-03T05:53:51.433255Z"
    },
    "papermill": {
     "duration": 0.039802,
     "end_time": "2024-02-03T05:53:51.437080",
     "exception": false,
     "start_time": "2024-02-03T05:53:51.397278",
     "status": "completed"
    },
    "tags": []
   },
   "outputs": [
    {
     "name": "stdout",
     "output_type": "stream",
     "text": [
      "   id        V1        V2        V3        V4        V5        V6        V7  \\\n",
      "0   0 -0.260648 -0.469648  2.496266 -0.083724  0.129681  0.732898  0.519014   \n",
      "1   1  0.985100 -0.356045  0.558056 -0.429654  0.277140  0.428605  0.406466   \n",
      "2   2 -0.260272 -0.949385  1.728538 -0.457986  0.074062  1.419481  0.743511   \n",
      "3   3 -0.152152 -0.508959  1.746840 -1.090178  0.249486  1.143312  0.518269   \n",
      "4   4 -0.206820 -0.165280  1.527053 -0.448293  0.106125  0.530549  0.658849   \n",
      "\n",
      "         V8        V9  ...       V21       V22       V23       V24       V25  \\\n",
      "0 -0.130006  0.727159  ... -0.110552  0.217606 -0.134794  0.165959  0.126280   \n",
      "1 -0.133118  0.347452  ... -0.194936 -0.605761  0.079469 -0.577395  0.190090   \n",
      "2 -0.095576 -0.261297  ... -0.005020  0.702906  0.945045 -1.154666 -0.605564   \n",
      "3 -0.065130 -0.205698  ... -0.146927 -0.038212 -0.214048 -1.893131  1.003963   \n",
      "4 -0.212660  1.049921  ... -0.106984  0.729727 -0.161666  0.312561 -0.414116   \n",
      "\n",
      "        V26       V27       V28    Amount  Class  \n",
      "0 -0.434824 -0.081230 -0.151045  17982.10      0  \n",
      "1  0.296503 -0.248052 -0.064512   6531.37      0  \n",
      "2 -0.312895 -0.300258 -0.244718   2513.54      0  \n",
      "3 -0.515950 -0.165316  0.048424   5384.44      0  \n",
      "4  1.071126  0.023712  0.419117  14278.97      0  \n",
      "\n",
      "[5 rows x 31 columns]\n",
      "data.shape (568630, 31)\n"
     ]
    }
   ],
   "source": [
    "headlist =[]\n",
    "print(data.head())\n",
    "headlist = data.columns.tolist()\n",
    "print('data.shape', data.shape)\n",
    "# headlist"
   ]
  },
  {
   "cell_type": "code",
   "execution_count": 7,
   "id": "f3fa4ae0",
   "metadata": {
    "execution": {
     "iopub.execute_input": "2024-02-03T05:53:51.454622Z",
     "iopub.status.busy": "2024-02-03T05:53:51.454202Z",
     "iopub.status.idle": "2024-02-03T05:53:51.473593Z",
     "shell.execute_reply": "2024-02-03T05:53:51.472496Z"
    },
    "papermill": {
     "duration": 0.030874,
     "end_time": "2024-02-03T05:53:51.475945",
     "exception": false,
     "start_time": "2024-02-03T05:53:51.445071",
     "status": "completed"
    },
    "tags": []
   },
   "outputs": [
    {
     "name": "stdout",
     "output_type": "stream",
     "text": [
      "284315\n",
      "284315\n",
      "[ True False]\n"
     ]
    }
   ],
   "source": [
    "trues = (data['Class'] == 1).sum()\n",
    "print(trues)\n",
    "falses = (data['Class'] == 0).sum()\n",
    "print(falses)\n",
    "unique_count = (data['Class'] == 0).unique()\n",
    "print(unique_count)\n",
    "\n",
    "# Plotting\n",
    "# data.plot(kind='bar')  # You can change 'line' to 'bar', 'hist', 'box', etc.\n",
    "# plt.show()"
   ]
  },
  {
   "cell_type": "markdown",
   "id": "ac0014e7",
   "metadata": {
    "papermill": {
     "duration": 0.00765,
     "end_time": "2024-02-03T05:53:51.491749",
     "exception": false,
     "start_time": "2024-02-03T05:53:51.484099",
     "status": "completed"
    },
    "tags": []
   },
   "source": [
    "> Test: shuffle the data and run the model. check the diff. might reduce bias from the pattern."
   ]
  },
  {
   "cell_type": "code",
   "execution_count": 8,
   "id": "11018d17",
   "metadata": {
    "execution": {
     "iopub.execute_input": "2024-02-03T05:53:51.509955Z",
     "iopub.status.busy": "2024-02-03T05:53:51.509120Z",
     "iopub.status.idle": "2024-02-03T05:53:51.994007Z",
     "shell.execute_reply": "2024-02-03T05:53:51.992906Z"
    },
    "papermill": {
     "duration": 0.497142,
     "end_time": "2024-02-03T05:53:51.996714",
     "exception": false,
     "start_time": "2024-02-03T05:53:51.499572",
     "status": "completed"
    },
    "tags": []
   },
   "outputs": [],
   "source": [
    "x = data.drop(['Class', 'id'], axis=1)\n",
    "y = data['Class']\n",
    "# print(x,y)\n",
    "\n",
    "x_train, x_test, y_train, y_test = train_test_split(x, y, test_size=0.2, stratify=y, random_state=42)"
   ]
  },
  {
   "cell_type": "code",
   "execution_count": 9,
   "id": "21c189ef",
   "metadata": {
    "execution": {
     "iopub.execute_input": "2024-02-03T05:53:52.014814Z",
     "iopub.status.busy": "2024-02-03T05:53:52.014384Z",
     "iopub.status.idle": "2024-02-03T05:53:52.020061Z",
     "shell.execute_reply": "2024-02-03T05:53:52.019085Z"
    },
    "papermill": {
     "duration": 0.017771,
     "end_time": "2024-02-03T05:53:52.022724",
     "exception": false,
     "start_time": "2024-02-03T05:53:52.004953",
     "status": "completed"
    },
    "tags": []
   },
   "outputs": [
    {
     "name": "stdout",
     "output_type": "stream",
     "text": [
      "(454904, 29) (113726, 29) (454904,) (113726,)\n"
     ]
    }
   ],
   "source": [
    "print(x_train.shape, x_test.shape, y_train.shape, y_test.shape)"
   ]
  },
  {
   "cell_type": "code",
   "execution_count": 10,
   "id": "e7993086",
   "metadata": {
    "execution": {
     "iopub.execute_input": "2024-02-03T05:53:52.040376Z",
     "iopub.status.busy": "2024-02-03T05:53:52.040005Z",
     "iopub.status.idle": "2024-02-03T05:53:52.057677Z",
     "shell.execute_reply": "2024-02-03T05:53:52.056726Z"
    },
    "papermill": {
     "duration": 0.029554,
     "end_time": "2024-02-03T05:53:52.060244",
     "exception": false,
     "start_time": "2024-02-03T05:53:52.030690",
     "status": "completed"
    },
    "tags": []
   },
   "outputs": [],
   "source": [
    "scaler = StandardScaler()\n",
    "x_train['Amount'] = scaler.fit_transform(x_train[['Amount']])\n",
    "x_test['Amount'] = scaler.transform(x_test[['Amount']])"
   ]
  },
  {
   "cell_type": "code",
   "execution_count": 11,
   "id": "b80d3838",
   "metadata": {
    "execution": {
     "iopub.execute_input": "2024-02-03T05:53:52.078414Z",
     "iopub.status.busy": "2024-02-03T05:53:52.078044Z",
     "iopub.status.idle": "2024-02-03T05:53:52.082786Z",
     "shell.execute_reply": "2024-02-03T05:53:52.081840Z"
    },
    "papermill": {
     "duration": 0.016618,
     "end_time": "2024-02-03T05:53:52.085041",
     "exception": false,
     "start_time": "2024-02-03T05:53:52.068423",
     "status": "completed"
    },
    "tags": []
   },
   "outputs": [],
   "source": [
    "# input_dim = x_train.shape[1]\n",
    "\n",
    "# # Define the layers\n",
    "# input_layer = Input(shape=(input_dim,))\n",
    "# encoder = Dense(14, activation=\"tanh\")(input_layer)\n",
    "# encoder = Dense(7, activation=\"relu\")(encoder)\n",
    "# decoder = Dense(7, activation='tanh')(encoder)\n",
    "# decoder = Dense(input_dim, activation='relu')(decoder)\n",
    "\n",
    "# autoencoder = Model(inputs=input_layer, outputs=decoder)\n",
    "\n",
    "# # Training accuracy: 0.7691007333415402 \n",
    "# # Test accuracy: 0.7688655188787085"
   ]
  },
  {
   "cell_type": "code",
   "execution_count": 12,
   "id": "657bfb8d",
   "metadata": {
    "execution": {
     "iopub.execute_input": "2024-02-03T05:53:52.103640Z",
     "iopub.status.busy": "2024-02-03T05:53:52.102784Z",
     "iopub.status.idle": "2024-02-03T05:53:52.324034Z",
     "shell.execute_reply": "2024-02-03T05:53:52.322886Z"
    },
    "papermill": {
     "duration": 0.233208,
     "end_time": "2024-02-03T05:53:52.326581",
     "exception": false,
     "start_time": "2024-02-03T05:53:52.093373",
     "status": "completed"
    },
    "tags": []
   },
   "outputs": [],
   "source": [
    "input_dim = x_train.shape[1]\n",
    "\n",
    "input_layer = Input(shape=(input_dim,))\n",
    "\n",
    "encoder = Dense(14, activation=\"tanh\")(input_layer)\n",
    "encoder = Dense(10, activation=\"relu\")(encoder)\n",
    "encoder = Dense(7, activation=\"relu\")(encoder)\n",
    "\n",
    "decoder = Dense(7, activation='tanh')(encoder)\n",
    "decoder = Dense(10, activation='relu')(decoder)\n",
    "decoder = Dense(input_dim, activation='relu')(decoder)\n",
    "\n",
    "autoencoder = Model(inputs=input_layer, outputs=decoder)\n",
    "\n",
    "# Training accuracy: 0.784978808715685\n",
    "# Test accuracy: 0.7841126919086224"
   ]
  },
  {
   "cell_type": "code",
   "execution_count": 13,
   "id": "b3938384",
   "metadata": {
    "execution": {
     "iopub.execute_input": "2024-02-03T05:53:52.345086Z",
     "iopub.status.busy": "2024-02-03T05:53:52.344654Z",
     "iopub.status.idle": "2024-02-03T05:53:52.349224Z",
     "shell.execute_reply": "2024-02-03T05:53:52.348259Z"
    },
    "jupyter": {
     "source_hidden": true
    },
    "papermill": {
     "duration": 0.016558,
     "end_time": "2024-02-03T05:53:52.351443",
     "exception": false,
     "start_time": "2024-02-03T05:53:52.334885",
     "status": "completed"
    },
    "tags": []
   },
   "outputs": [],
   "source": [
    "# input_dim = x_train.shape[1]\n",
    "\n",
    "# input_layer = Input(shape=(input_dim,))\n",
    "\n",
    "# print(input_dim)\n",
    "# # print(input_layer)"
   ]
  },
  {
   "cell_type": "code",
   "execution_count": 14,
   "id": "38754590",
   "metadata": {
    "execution": {
     "iopub.execute_input": "2024-02-03T05:53:52.369683Z",
     "iopub.status.busy": "2024-02-03T05:53:52.368858Z",
     "iopub.status.idle": "2024-02-03T05:53:52.374190Z",
     "shell.execute_reply": "2024-02-03T05:53:52.373205Z"
    },
    "papermill": {
     "duration": 0.016792,
     "end_time": "2024-02-03T05:53:52.376406",
     "exception": false,
     "start_time": "2024-02-03T05:53:52.359614",
     "status": "completed"
    },
    "tags": []
   },
   "outputs": [],
   "source": [
    "# input_dim = x_train.shape[1]\n",
    "\n",
    "# input_layer = Input(shape=(input_dim,))\n",
    "\n",
    "# encoded = Dense(100, activation= 'tanh', activity_regularizer=regularizers.l1(10e-5))(input_layer)\n",
    "# encoded = Dense(50, activation='tanh', activity_regularizer=regularizers.l1(10e-5))(encoded)\n",
    "# encoded = Dense(25, activation='tanh', activity_regularizer=regularizers.l1(10e-5))(encoded)\n",
    "# encoded = Dense(12, activation = 'tanh', activity_regularizer=regularizers.l1(10e-5))(encoded)\n",
    "# encoded = Dense(6, activation='relu')(encoded)\n",
    "\n",
    "# # Decoder network\n",
    "# decoded = Dense(12, activation='tanh')(encoded)\n",
    "# decoded = Dense(25, activation='tanh')(decoded)\n",
    "# decoded = Dense(50, activation='tanh')(decoded)\n",
    "# decoded = Dense(100, activation='tanh')(decoded)\n",
    "\n",
    "# output_layer = Dense(x.shape[1], activation='relu')(decoded)\n",
    "\n",
    "# # Building a model\n",
    "# autoencoder = Model(input_layer, output_layer)\n",
    "\n",
    "# # Training accuracy: 0.8050182016425443\n",
    "# # Test accuracy: 0.8044510490125389\n",
    "# # do not remember number of epochs"
   ]
  },
  {
   "cell_type": "code",
   "execution_count": 15,
   "id": "05000de1",
   "metadata": {
    "execution": {
     "iopub.execute_input": "2024-02-03T05:53:52.394464Z",
     "iopub.status.busy": "2024-02-03T05:53:52.393758Z",
     "iopub.status.idle": "2024-02-03T05:54:05.950179Z",
     "shell.execute_reply": "2024-02-03T05:54:05.949126Z"
    },
    "papermill": {
     "duration": 13.568013,
     "end_time": "2024-02-03T05:54:05.952405",
     "exception": false,
     "start_time": "2024-02-03T05:53:52.384392",
     "status": "completed"
    },
    "tags": []
   },
   "outputs": [
    {
     "name": "stdout",
     "output_type": "stream",
     "text": [
      "6042/6042 [==============================] - 13s 2ms/step - loss: 0.4837 - val_loss: 0.4154\n"
     ]
    },
    {
     "data": {
      "text/plain": [
       "<keras.callbacks.History at 0x78688e709930>"
      ]
     },
     "execution_count": 15,
     "metadata": {},
     "output_type": "execute_result"
    }
   ],
   "source": [
    "x_train_nonfraud = x_train[y_train == 0]\n",
    "\n",
    "autoencoder.compile(optimizer='adam', loss='mean_squared_error') # can be binary cross\n",
    "autoencoder.fit(x_train_nonfraud, x_train_nonfraud, epochs=1, batch_size=32, shuffle=True, validation_split=0.15)"
   ]
  },
  {
   "cell_type": "code",
   "execution_count": 16,
   "id": "0e5414c6",
   "metadata": {
    "execution": {
     "iopub.execute_input": "2024-02-03T05:54:06.008208Z",
     "iopub.status.busy": "2024-02-03T05:54:06.006830Z",
     "iopub.status.idle": "2024-02-03T05:54:40.630254Z",
     "shell.execute_reply": "2024-02-03T05:54:40.628676Z"
    },
    "papermill": {
     "duration": 34.653707,
     "end_time": "2024-02-03T05:54:40.632905",
     "exception": false,
     "start_time": "2024-02-03T05:54:05.979198",
     "status": "completed"
    },
    "tags": []
   },
   "outputs": [
    {
     "name": "stdout",
     "output_type": "stream",
     "text": [
      "14216/14216 [==============================] - 16s 1ms/step\n",
      "3554/3554 [==============================] - 4s 1ms/step\n",
      "Training accuracy: 0.7942423016724408\n",
      "Test accuracy: 0.7937762692787929\n",
      "Train confusionn matrix :  [[216079  11373]\n",
      " [ 82227 145225]]\n",
      "Test confusion matrix :  [[53911  2952]\n",
      " [20501 36362]]\n"
     ]
    }
   ],
   "source": [
    "# 1. Calculate the Mean Squared Error (MSE)\n",
    "train_predictions = autoencoder.predict(x_train)\n",
    "train_mse = np.mean(np.power(x_train - train_predictions, 2), axis=1)\n",
    "\n",
    "test_predictions = autoencoder.predict(x_test)\n",
    "test_mse = np.mean(np.power(x_test - test_predictions, 2), axis=1)\n",
    "\n",
    "# 2. Determine a Threshold\n",
    "threshold = np.percentile(train_mse[y_train == 0], 95)\n",
    "\n",
    "# 3. Evaluate Accuracy\n",
    "train_pred_labels = [1 if mse > threshold else 0 for mse in train_mse]\n",
    "test_pred_labels = [1 if mse > threshold else 0 for mse in test_mse]\n",
    "\n",
    "train_accuracy = accuracy_score(y_train, train_pred_labels)\n",
    "test_accuracy = accuracy_score(y_test, test_pred_labels)\n",
    "\n",
    "print(\"Training accuracy:\", train_accuracy)\n",
    "print(\"Test accuracy:\", test_accuracy)\n",
    "\n",
    "# confusion matrix and recall \n",
    "\n",
    "# confusion matrix for training data\n",
    "train_cm = confusion_matrix(y_train, train_pred_labels)\n",
    "\n",
    "# confusion matrix for testing data\n",
    "test_cm = confusion_matrix(y_test, test_pred_labels)\n",
    "\n",
    "print(\"Train confusionn matrix : \", train_cm)\n",
    "print(\"Test confusion matrix : \", test_cm)\n",
    "#print(f\"Recall: {recall:.2f}\")"
   ]
  },
  {
   "cell_type": "code",
   "execution_count": 17,
   "id": "ae526704",
   "metadata": {
    "execution": {
     "iopub.execute_input": "2024-02-03T05:54:40.757490Z",
     "iopub.status.busy": "2024-02-03T05:54:40.756808Z",
     "iopub.status.idle": "2024-02-03T05:54:46.052497Z",
     "shell.execute_reply": "2024-02-03T05:54:46.051275Z"
    },
    "papermill": {
     "duration": 5.360718,
     "end_time": "2024-02-03T05:54:46.055159",
     "exception": false,
     "start_time": "2024-02-03T05:54:40.694441",
     "status": "completed"
    },
    "tags": []
   },
   "outputs": [
    {
     "name": "stdout",
     "output_type": "stream",
     "text": [
      "3554/3554 [==============================] - 4s 1ms/step\n",
      "178.35843781803464\n"
     ]
    }
   ],
   "source": [
    "x_test_predictions = autoencoder.predict(x_test)\n",
    "mse = np.mean(np.power(x_test - x_test_predictions, 2), axis=1)\n",
    "print(max(mse))"
   ]
  },
  {
   "cell_type": "code",
   "execution_count": 18,
   "id": "660b608d",
   "metadata": {
    "execution": {
     "iopub.execute_input": "2024-02-03T05:54:46.250804Z",
     "iopub.status.busy": "2024-02-03T05:54:46.250380Z",
     "iopub.status.idle": "2024-02-03T05:54:46.260147Z",
     "shell.execute_reply": "2024-02-03T05:54:46.259185Z"
    },
    "jupyter": {
     "source_hidden": true
    },
    "papermill": {
     "duration": 0.081213,
     "end_time": "2024-02-03T05:54:46.262922",
     "exception": false,
     "start_time": "2024-02-03T05:54:46.181709",
     "status": "completed"
    },
    "tags": []
   },
   "outputs": [],
   "source": [
    "import logging\n",
    "import io\n",
    "from datetime import datetime\n",
    "\n",
    "def setup_logging(timestamp):\n",
    "    \"\"\"Sets up the logging environment.\"\"\"\n",
    "    log_filename = f'logs/model_run_{timestamp}.log'\n",
    "    \n",
    "    # Ensure the logs directory exists\n",
    "    if not os.path.exists('logs'):\n",
    "        os.makedirs('logs')\n",
    "    \n",
    "    # Configure logging\n",
    "    logger = logging.getLogger(__name__)\n",
    "    logger.setLevel(logging.INFO)\n",
    "    \n",
    "    # Check if logger has handlers already (important in Jupyter environments)\n",
    "    if not logger.handlers:\n",
    "        file_handler = logging.FileHandler(log_filename)\n",
    "        file_handler.setLevel(logging.INFO)\n",
    "        formatter = logging.Formatter('%(asctime)s - %(levelname)s - %(message)s')\n",
    "        file_handler.setFormatter(formatter)\n",
    "        logger.addHandler(file_handler)\n",
    "    \n",
    "    return logger\n",
    "\n",
    "def log_model_details(timestamp, model_summary, epochs, training_accuracy, testing_accuracy):\n",
    "    \"\"\"\n",
    "    Logs the model details to the specified log file.\n",
    "    \n",
    "    :param timestamp: Timestamp for the log file\n",
    "    :param model_summary: Summary of the model architecture\n",
    "    :param epochs: Number of epochs used for training\n",
    "    :param training_accuracy: The training accuracy\n",
    "    :param testing_accuracy: The testing accuracy\n",
    "    \"\"\"\n",
    "    logger = setup_logging(timestamp)\n",
    "    \n",
    "    # Log the model summary\n",
    "    logger.info(\"Model Summary:\\n\" + model_summary)\n",
    "    \n",
    "    # Log the training details\n",
    "    logger.info(f\"Training for {epochs} epochs.\")\n",
    "    logger.info(f\"Training Accuracy: {training_accuracy}\")\n",
    "    logger.info(f\"Testing Accuracy: {testing_accuracy}\")\n",
    "    logger.info(\"***************************************\")"
   ]
  },
  {
   "cell_type": "code",
   "execution_count": 19,
   "id": "09f229fe",
   "metadata": {
    "execution": {
     "iopub.execute_input": "2024-02-03T05:54:46.399868Z",
     "iopub.status.busy": "2024-02-03T05:54:46.398817Z",
     "iopub.status.idle": "2024-02-03T05:54:46.407721Z",
     "shell.execute_reply": "2024-02-03T05:54:46.406915Z"
    },
    "jupyter": {
     "source_hidden": true
    },
    "papermill": {
     "duration": 0.079649,
     "end_time": "2024-02-03T05:54:46.409862",
     "exception": false,
     "start_time": "2024-02-03T05:54:46.330213",
     "status": "completed"
    },
    "tags": []
   },
   "outputs": [],
   "source": [
    "stream = io.StringIO()\n",
    "autoencoder.summary(print_fn=lambda x: stream.write(x + '\\n'))\n",
    "summary_string = stream.getvalue()\n",
    "stream.close()\n",
    "\n",
    "# Define your other parameters\n",
    "timestamp = datetime.now().strftime('%Y-%m-%d_%H-%M-%S')\n",
    "epochs = 10\n",
    "training_accuracy = 0.95  # Example value\n",
    "testing_accuracy = 0.90  # Example value\n",
    "\n",
    "# Call the function to log everything\n",
    "log_model_details(timestamp, summary_string, epochs, training_accuracy, testing_accuracy)"
   ]
  },
  {
   "cell_type": "code",
   "execution_count": 20,
   "id": "f888f2ce",
   "metadata": {
    "execution": {
     "iopub.execute_input": "2024-02-03T05:54:46.546182Z",
     "iopub.status.busy": "2024-02-03T05:54:46.545207Z",
     "iopub.status.idle": "2024-02-03T05:54:46.553234Z",
     "shell.execute_reply": "2024-02-03T05:54:46.552296Z"
    },
    "jupyter": {
     "source_hidden": true
    },
    "papermill": {
     "duration": 0.078468,
     "end_time": "2024-02-03T05:54:46.555414",
     "exception": false,
     "start_time": "2024-02-03T05:54:46.476946",
     "status": "completed"
    },
    "tags": []
   },
   "outputs": [
    {
     "data": {
      "text/plain": [
       "'\"\\n# Define a Policy-Based RL Environment\\nclass FraudDetectionEnv(gym.Env):\\n    def __init__(self):\\n        super(FraudDetectionEnv, self).__init__()\\n        self.action_space = gym.spaces.Discrete(n_actions)\\n        self.observation_space = gym.spaces.Box(low=0, high=1, shape=(n_features + 1,))\\n\\n    def step(self, action):\\n        # Implement the logic to handle actions and return the next state, reward, done, info\\n        pass\\n\\n    def reset(self):\\n        # Reset the environment to an initial state\\n        pass\\n\\n# Initialize the environment and the RL agent\\nenv = FraudDetectionEnv()\\nmodel = PPO(\"MlpPolicy\", env, verbose=1)\\n\\n# Train the RL agent\\nmodel.learn(total_timesteps=10000)\\n\\n# Example of using the trained autoencoder and RL agent in tandem\\ndef make_decision(transaction_data):\\n    # Use autoencoder for anomaly detection\\n    reconstructed = autoencoder.predict(transaction_data)\\n    reconstruction_error = np.mean(np.abs(transaction_data - reconstructed), axis=1)\\n\\n    # Include reconstruction error in the state for the RL agent\\n    state = np.concatenate([transaction_data, reconstruction_error[:, None]], axis=1)\\n    action = model.predict(state, deterministic=True)[0]\\n    \\n    return action\\n\\n# Example transaction data (dummy data for illustration)\\nsample_transaction = np.random.rand(1, n_features)\\n\\n# Make a decision on the transaction\\ndecision = make_decision(sample_transaction)\\nprint(\"Decision on transaction:\", decision)\\n'"
      ]
     },
     "execution_count": 20,
     "metadata": {},
     "output_type": "execute_result"
    }
   ],
   "source": [
    "\"\"\"\"\n",
    "# Define a Policy-Based RL Environment\n",
    "class FraudDetectionEnv(gym.Env):\n",
    "    def __init__(self):\n",
    "        super(FraudDetectionEnv, self).__init__()\n",
    "        self.action_space = gym.spaces.Discrete(n_actions)\n",
    "        self.observation_space = gym.spaces.Box(low=0, high=1, shape=(n_features + 1,))\n",
    "\n",
    "    def step(self, action):\n",
    "        # Implement the logic to handle actions and return the next state, reward, done, info\n",
    "        pass\n",
    "\n",
    "    def reset(self):\n",
    "        # Reset the environment to an initial state\n",
    "        pass\n",
    "\n",
    "# Initialize the environment and the RL agent\n",
    "env = FraudDetectionEnv()\n",
    "model = PPO(\"MlpPolicy\", env, verbose=1)\n",
    "\n",
    "# Train the RL agent\n",
    "model.learn(total_timesteps=10000)\n",
    "\n",
    "# Example of using the trained autoencoder and RL agent in tandem\n",
    "def make_decision(transaction_data):\n",
    "    # Use autoencoder for anomaly detection\n",
    "    reconstructed = autoencoder.predict(transaction_data)\n",
    "    reconstruction_error = np.mean(np.abs(transaction_data - reconstructed), axis=1)\n",
    "\n",
    "    # Include reconstruction error in the state for the RL agent\n",
    "    state = np.concatenate([transaction_data, reconstruction_error[:, None]], axis=1)\n",
    "    action = model.predict(state, deterministic=True)[0]\n",
    "    \n",
    "    return action\n",
    "\n",
    "# Example transaction data (dummy data for illustration)\n",
    "sample_transaction = np.random.rand(1, n_features)\n",
    "\n",
    "# Make a decision on the transaction\n",
    "decision = make_decision(sample_transaction)\n",
    "print(\"Decision on transaction:\", decision)\n",
    "\"\"\""
   ]
  }
 ],
 "metadata": {
  "kaggle": {
   "accelerator": "none",
   "dataSources": [
    {
     "datasetId": 3752264,
     "sourceId": 6492730,
     "sourceType": "datasetVersion"
    }
   ],
   "dockerImageVersionId": 30558,
   "isGpuEnabled": false,
   "isInternetEnabled": true,
   "language": "python",
   "sourceType": "notebook"
  },
  "kernelspec": {
   "display_name": "Python 3",
   "language": "python",
   "name": "python3"
  },
  "language_info": {
   "codemirror_mode": {
    "name": "ipython",
    "version": 3
   },
   "file_extension": ".py",
   "mimetype": "text/x-python",
   "name": "python",
   "nbconvert_exporter": "python",
   "pygments_lexer": "ipython3",
   "version": "3.10.12"
  },
  "papermill": {
   "default_parameters": {},
   "duration": 81.944624,
   "end_time": "2024-02-03T05:54:49.161833",
   "environment_variables": {},
   "exception": null,
   "input_path": "__notebook__.ipynb",
   "output_path": "__notebook__.ipynb",
   "parameters": {},
   "start_time": "2024-02-03T05:53:27.217209",
   "version": "2.4.0"
  }
 },
 "nbformat": 4,
 "nbformat_minor": 5
}
